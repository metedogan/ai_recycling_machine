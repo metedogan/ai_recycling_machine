{
 "cells": [
  {
   "cell_type": "markdown",
   "metadata": {},
   "source": [
    "### Gerekli Kütüphanelerin Yüklenmesi"
   ]
  },
  {
   "cell_type": "code",
   "execution_count": 19,
   "metadata": {},
   "outputs": [],
   "source": [
    "import os \n",
    "import numpy as np\n",
    "import tensorflow as tf\n",
    "from tensorflow.keras.callbacks import TensorBoard\n",
    "import time\n",
    "from sklearn.model_selection import train_test_split\n",
    "import cv2"
   ]
  },
  {
   "cell_type": "code",
   "execution_count": 20,
   "metadata": {},
   "outputs": [
    {
     "name": "stdout",
     "output_type": "stream",
     "text": [
      "c:\\Users\\LENOVO\\Desktop\\ai_recycling_machine\n"
     ]
    }
   ],
   "source": [
    "print(os.getcwd())"
   ]
  },
  {
   "cell_type": "code",
   "execution_count": 21,
   "metadata": {},
   "outputs": [],
   "source": [
    "os.chdir(r\"c:\\Users\\LENOVO\\Desktop\\ai_recycling_machine\")"
   ]
  },
  {
   "cell_type": "markdown",
   "metadata": {},
   "source": [
    "### Veri Seti ve Etiketlerin Yüklenmesi"
   ]
  },
  {
   "cell_type": "code",
   "execution_count": 22,
   "metadata": {},
   "outputs": [],
   "source": [
    "# Veriyi ve etiket dosyasını yükleme\n",
    "image_directory = \"dataset\\dataset-resized\"\n",
    "labels_train_file = r\"C:\\Users\\LENOVO\\Desktop\\ai_recycling_machine\\labels\\one-indexed-files-notrash_train.txt\"\n",
    "\n",
    "labels_test_file = r\"C:\\Users\\LENOVO\\Desktop\\ai_recycling_machine\\labels\\one-indexed-files-notrash_test.txt\"\n",
    "\n",
    "labels_val_file = r\"C:\\Users\\LENOVO\\Desktop\\ai_recycling_machine\\labels\\one-indexed-files-notrash_val.txt\""
   ]
  },
  {
   "cell_type": "code",
   "execution_count": 23,
   "metadata": {},
   "outputs": [
    {
     "name": "stdout",
     "output_type": "stream",
     "text": [
      "Eğitim Etiketleri: {'cardboard202.jpg': 3, 'paper472.jpg': 2, 'paper522.jpg': 2, 'glass189.jpg': 1, 'glass325.jpg': 1, 'metal63.jpg': 5, 'cardboard61.jpg': 3, 'trash50.jpg': 4, 'paper305.jpg': 2, 'paper199.jpg': 2, 'paper539.jpg': 2, 'plastic262.jpg': 4, 'plastic210.jpg': 4, 'glass489.jpg': 1, 'cardboard369.jpg': 3, 'glass80.jpg': 1, 'glass97.jpg': 1, 'plastic275.jpg': 4, 'glass272.jpg': 1, 'glass380.jpg': 1, 'paper96.jpg': 2, 'paper17.jpg': 2, 'glass301.jpg': 1, 'paper523.jpg': 2, 'glass66.jpg': 1, 'plastic344.jpg': 4, 'paper401.jpg': 2, 'trash88.jpg': 6, 'paper414.jpg': 2, 'metal25.jpg': 5, 'glass241.jpg': 1, 'metal231.jpg': 5, 'metal329.jpg': 5, 'plastic140.jpg': 4, 'paper252.jpg': 2, 'paper205.jpg': 2, 'paper107.jpg': 2, 'trash80.jpg': 3, 'plastic271.jpg': 4, 'cardboard62.jpg': 3, 'paper410.jpg': 2, 'metal95.jpg': 5, 'paper256.jpg': 3, 'glass282.jpg': 1, 'plastic28.jpg': 4, 'paper338.jpg': 2, 'metal404.jpg': 5, 'paper33.jpg': 2, 'paper131.jpg': 2, 'metal227.jpg': 5, 'glass413.jpg': 1, 'paper39.jpg': 2, 'paper59.jpg': 2, 'plastic304.jpg': 4, 'glass406.jpg': 1, 'paper20.jpg': 2, 'metal339.jpg': 5, 'cardboard242.jpg': 3, 'paper496.jpg': 2, 'plastic158.jpg': 4, 'cardboard301.jpg': 3, 'plastic11.jpg': 4, 'glass425.jpg': 1, 'metal1.jpg': 5, 'plastic168.jpg': 4, 'paper388.jpg': 2, 'metal79.jpg': 5, 'glass397.jpg': 1, 'paper67.jpg': 2, 'metal9.jpg': 5, 'paper27.jpg': 2, 'cardboard95.jpg': 3, 'glass75.jpg': 1, 'cardboard349.jpg': 3, 'glass79.jpg': 1, 'paper320.jpg': 2, 'plastic466.jpg': 4, 'glass448.jpg': 1, 'cardboard240.jpg': 3, 'metal366.jpg': 5, 'plastic470.jpg': 4, 'metal103.jpg': 5, 'cardboard309.jpg': 3, 'plastic131.jpg': 4, 'paper240.jpg': 2, 'paper538.jpg': 2, 'metal42.jpg': 5, 'cardboard159.jpg': 3, 'paper481.jpg': 2, 'glass1.jpg': 1, 'glass307.jpg': 1, 'metal195.jpg': 5, 'plastic63.jpg': 4, 'paper78.jpg': 2, 'cardboard246.jpg': 3, 'metal233.jpg': 5, 'trash53.jpg': 6, 'paper136.jpg': 2, 'plastic94.jpg': 4, 'paper111.jpg': 2, 'cardboard281.jpg': 3, 'metal379.jpg': 5, 'glass160.jpg': 1, 'plastic475.jpg': 4, 'paper425.jpg': 2, 'paper313.jpg': 2, 'paper91.jpg': 2, 'paper544.jpg': 2, 'plastic1.jpg': 4, 'paper429.jpg': 2, 'metal35.jpg': 5, 'paper73.jpg': 2, 'trash13.jpg': 6, 'cardboard102.jpg': 3, 'glass179.jpg': 1, 'paper228.jpg': 6, 'paper138.jpg': 2, 'glass120.jpg': 1, 'metal127.jpg': 5, 'metal128.jpg': 5, 'paper144.jpg': 2, 'glass164.jpg': 1, 'plastic38.jpg': 4, 'glass239.jpg': 1, 'metal256.jpg': 5, 'metal154.jpg': 5, 'plastic290.jpg': 4, 'cardboard87.jpg': 3, 'glass460.jpg': 1, 'glass92.jpg': 1, 'paper353.jpg': 2, 'glass161.jpg': 1, 'paper165.jpg': 2, 'glass280.jpg': 1, 'plastic59.jpg': 4, 'trash131.jpg': 6, 'paper574.jpg': 2, 'plastic303.jpg': 4, 'plastic154.jpg': 4, 'cardboard96.jpg': 3, 'paper151.jpg': 2, 'paper370.jpg': 2, 'paper36.jpg': 2, 'metal130.jpg': 5, 'cardboard354.jpg': 3, 'paper156.jpg': 2, 'cardboard366.jpg': 3, 'glass50.jpg': 1, 'cardboard124.jpg': 3, 'plastic444.jpg': 4, 'glass428.jpg': 1, 'metal214.jpg': 5, 'paper154.jpg': 2, 'metal164.jpg': 5, 'glass172.jpg': 1, 'glass403.jpg': 1, 'metal359.jpg': 5, 'glass421.jpg': 1, 'plastic310.jpg': 4, 'plastic208.jpg': 4, 'paper325.jpg': 2, 'metal59.jpg': 5, 'metal155.jpg': 5, 'glass454.jpg': 1, 'glass28.jpg': 1, 'glass188.jpg': 1, 'cardboard110.jpg': 3, 'plastic173.jpg': 4, 'plastic357.jpg': 4, 'metal220.jpg': 5, 'plastic198.jpg': 4, 'glass105.jpg': 1, 'glass89.jpg': 1, 'metal163.jpg': 5, 'cardboard79.jpg': 3, 'plastic257.jpg': 4, 'cardboard140.jpg': 3, 'plastic335.jpg': 4, 'metal43.jpg': 5, 'plastic414.jpg': 4, 'glass78.jpg': 1, 'cardboard108.jpg': 3, 'paper302.jpg': 2, 'trash21.jpg': 6, 'paper4.jpg': 2, 'paper487.jpg': 2, 'plastic18.jpg': 4, 'paper179.jpg': 2, 'glass430.jpg': 1, 'metal97.jpg': 5, 'plastic311.jpg': 4, 'plastic469.jpg': 4, 'paper171.jpg': 2, 'glass130.jpg': 1, 'paper291.jpg': 2, 'plastic29.jpg': 4, 'plastic176.jpg': 4, 'paper513.jpg': 2, 'metal171.jpg': 5, 'glass145.jpg': 1, 'cardboard329.jpg': 3, 'glass375.jpg': 1, 'metal132.jpg': 5, 'metal243.jpg': 5, 'metal92.jpg': 5, 'plastic334.jpg': 4, 'paper200.jpg': 2, 'plastic385.jpg': 4, 'glass201.jpg': 1, 'paper79.jpg': 2, 'plastic179.jpg': 4, 'cardboard136.jpg': 3, 'glass492.jpg': 1, 'plastic266.jpg': 4, 'cardboard200.jpg': 3, 'plastic416.jpg': 4, 'trash125.jpg': 6, 'paper323.jpg': 2, 'plastic276.jpg': 4, 'metal346.jpg': 5, 'glass364.jpg': 1, 'metal386.jpg': 5, 'glass163.jpg': 1, 'plastic10.jpg': 4, 'plastic45.jpg': 4, 'paper197.jpg': 2, 'glass352.jpg': 1, 'cardboard227.jpg': 3, 'plastic300.jpg': 4, 'paper398.jpg': 2, 'paper383.jpg': 2, 'plastic180.jpg': 4, 'paper530.jpg': 2, 'glass170.jpg': 1, 'cardboard229.jpg': 3, 'paper443.jpg': 2, 'paper8.jpg': 2, 'cardboard90.jpg': 3, 'cardboard347.jpg': 3, 'paper16.jpg': 2, 'glass176.jpg': 1, 'metal125.jpg': 5, 'metal74.jpg': 5, 'trash92.jpg': 6, 'plastic424.jpg': 4, 'plastic368.jpg': 4, 'cardboard13.jpg': 3, 'cardboard55.jpg': 3, 'metal7.jpg': 5, 'cardboard81.jpg': 3, 'plastic433.jpg': 4, 'glass313.jpg': 1, 'paper413.jpg': 2, 'cardboard215.jpg': 3, 'paper482.jpg': 2, 'plastic461.jpg': 4, 'metal301.jpg': 5, 'trash106.jpg': 6, 'metal375.jpg': 5, 'cardboard228.jpg': 3, 'paper46.jpg': 2, 'plastic232.jpg': 4, 'metal53.jpg': 5, 'metal224.jpg': 5, 'metal410.jpg': 5, 'metal101.jpg': 5, 'paper456.jpg': 2, 'glass254.jpg': 1, 'plastic397.jpg': 4, 'metal289.jpg': 5, 'trash47.jpg': 6, 'glass202.jpg': 1, 'trash113.jpg': 6, 'glass125.jpg': 1, 'plastic410.jpg': 4, 'cardboard402.jpg': 3, 'paper224.jpg': 2, 'glass231.jpg': 1, 'cardboard182.jpg': 3, 'paper448.jpg': 2, 'glass72.jpg': 1, 'plastic428.jpg': 4, 'metal46.jpg': 5, 'cardboard340.jpg': 3, 'metal298.jpg': 5, 'plastic182.jpg': 4, 'plastic241.jpg': 4, 'paper192.jpg': 2, 'paper566.jpg': 2, 'metal142.jpg': 5, 'metal200.jpg': 5, 'plastic96.jpg': 4, 'cardboard256.jpg': 3, 'paper407.jpg': 2, 'cardboard378.jpg': 3, 'glass228.jpg': 1, 'metal283.jpg': 5, 'metal372.jpg': 5, 'paper195.jpg': 2, 'plastic190.jpg': 4, 'cardboard343.jpg': 3, 'metal252.jpg': 5, 'paper83.jpg': 2, 'plastic30.jpg': 4, 'cardboard28.jpg': 3, 'metal123.jpg': 5, 'cardboard86.jpg': 3, 'glass442.jpg': 1, 'glass467.jpg': 1, 'cardboard311.jpg': 3, 'glass299.jpg': 1, 'cardboard283.jpg': 3, 'metal219.jpg': 5, 'plastic107.jpg': 4, 'cardboard70.jpg': 3, 'glass146.jpg': 1, 'glass357.jpg': 1, 'glass470.jpg': 1, 'glass468.jpg': 1, 'plastic286.jpg': 4, 'paper355.jpg': 2, 'plastic267.jpg': 4, 'cardboard94.jpg': 3, 'paper556.jpg': 2, 'glass114.jpg': 1, 'cardboard284.jpg': 3, 'metal23.jpg': 5, 'metal286.jpg': 5, 'glass286.jpg': 1, 'plastic269.jpg': 4, 'plastic471.jpg': 4, 'paper369.jpg': 2, 'cardboard262.jpg': 3, 'plastic48.jpg': 4, 'paper84.jpg': 2, 'plastic213.jpg': 4, 'cardboard85.jpg': 3, 'plastic102.jpg': 4, 'paper512.jpg': 2, 'plastic442.jpg': 4, 'metal406.jpg': 5, 'cardboard188.jpg': 3, 'plastic347.jpg': 4, 'paper575.jpg': 2, 'glass437.jpg': 1, 'paper552.jpg': 2, 'glass129.jpg': 1, 'cardboard154.jpg': 3, 'glass463.jpg': 1, 'plastic395.jpg': 4, 'cardboard342.jpg': 3, 'glass482.jpg': 1, 'plastic195.jpg': 4, 'glass211.jpg': 1, 'plastic197.jpg': 4, 'glass141.jpg': 1, 'paper446.jpg': 2, 'metal326.jpg': 5, 'plastic87.jpg': 4, 'paper61.jpg': 2, 'plastic17.jpg': 4, 'paper449.jpg': 2, 'metal199.jpg': 5, 'metal106.jpg': 5, 'paper312.jpg': 2, 'paper88.jpg': 2, 'metal81.jpg': 5, 'metal165.jpg': 5, 'cardboard339.jpg': 3, 'paper63.jpg': 2, 'glass166.jpg': 1, 'cardboard53.jpg': 3, 'paper341.jpg': 2, 'plastic4.jpg': 4, 'paper389.jpg': 2, 'cardboard80.jpg': 3, 'glass221.jpg': 1, 'metal349.jpg': 5, 'cardboard370.jpg': 3, 'cardboard120.jpg': 3, 'glass276.jpg': 1, 'paper21.jpg': 2, 'paper189.jpg': 2, 'glass340.jpg': 1, 'plastic56.jpg': 4, 'glass262.jpg': 1, 'paper409.jpg': 2, 'glass195.jpg': 1, 'glass487.jpg': 1, 'paper517.jpg': 2, 'plastic7.jpg': 4, 'paper183.jpg': 2, 'cardboard224.jpg': 3, 'glass93.jpg': 1, 'cardboard191.jpg': 3, 'cardboard16.jpg': 3, 'cardboard251.jpg': 3, 'paper229.jpg': 2, 'plastic359.jpg': 4, 'cardboard204.jpg': 3, 'glass213.jpg': 1, 'cardboard320.jpg': 3, 'paper162.jpg': 2, 'glass140.jpg': 1, 'cardboard49.jpg': 3, 'glass36.jpg': 1, 'paper454.jpg': 2, 'paper217.jpg': 2, 'paper540.jpg': 2, 'paper464.jpg': 2, 'cardboard238.jpg': 3, 'cardboard101.jpg': 3, 'metal180.jpg': 5, 'paper340.jpg': 2, 'plastic330.jpg': 4, 'paper490.jpg': 2, 'glass358.jpg': 1, 'glass336.jpg': 1, 'cardboard176.jpg': 3, 'cardboard65.jpg': 3, 'cardboard264.jpg': 3, 'plastic447.jpg': 4, 'plastic209.jpg': 4, 'glass94.jpg': 1, 'plastic15.jpg': 4, 'glass488.jpg': 1, 'paper337.jpg': 2, 'glass366.jpg': 1, 'cardboard211.jpg': 3, 'glass261.jpg': 1, 'plastic340.jpg': 4, 'paper194.jpg': 2, 'plastic366.jpg': 4, 'paper267.jpg': 2, 'plastic429.jpg': 4, 'paper520.jpg': 2, 'cardboard23.jpg': 3, 'paper478.jpg': 2, 'plastic236.jpg': 4, 'paper366.jpg': 2, 'paper66.jpg': 2, 'plastic479.jpg': 4, 'glass281.jpg': 1, 'glass242.jpg': 1, 'cardboard148.jpg': 3, 'plastic345.jpg': 4, 'metal361.jpg': 5, 'metal368.jpg': 5, 'paper223.jpg': 2, 'glass459.jpg': 1, 'metal2.jpg': 5, 'paper394.jpg': 2, 'paper163.jpg': 2, 'glass182.jpg': 1, 'paper363.jpg': 2, 'glass298.jpg': 1, 'metal34.jpg': 5, 'paper81.jpg': 2, 'paper244.jpg': 2, 'cardboard99.jpg': 3, 'paper296.jpg': 2, 'glass54.jpg': 1, 'metal374.jpg': 5, 'glass200.jpg': 1, 'plastic346.jpg': 4, 'trash14.jpg': 6, 'glass275.jpg': 1, 'paper239.jpg': 2, 'paper178.jpg': 2, 'glass22.jpg': 1, 'trash78.jpg': 6, 'glass222.jpg': 1, 'cardboard385.jpg': 3, 'metal300.jpg': 5, 'plastic381.jpg': 4, 'metal54.jpg': 5, 'plastic239.jpg': 4, 'metal178.jpg': 5, 'metal337.jpg': 5, 'glass102.jpg': 1, 'metal100.jpg': 5, 'glass58.jpg': 1, 'trash10.jpg': 6, 'glass270.jpg': 1, 'plastic371.jpg': 4, 'paper339.jpg': 2, 'trash67.jpg': 6, 'glass110.jpg': 1, 'paper499.jpg': 2, 'glass245.jpg': 1, 'trash77.jpg': 6, 'metal116.jpg': 5, 'glass13.jpg': 1, 'metal225.jpg': 5, 'cardboard135.jpg': 3, 'paper37.jpg': 2, 'paper257.jpg': 2, 'metal107.jpg': 5, 'plastic44.jpg': 4, 'metal20.jpg': 5, 'plastic307.jpg': 4, 'paper550.jpg': 3, 'paper458.jpg': 2, 'paper466.jpg': 2, 'paper222.jpg': 2, 'cardboard106.jpg': 3, 'plastic282.jpg': 4, 'cardboard43.jpg': 3, 'glass247.jpg': 1, 'paper587.jpg': 3, 'cardboard201.jpg': 3, 'paper352.jpg': 2, 'glass478.jpg': 1, 'plastic13.jpg': 4, 'glass445.jpg': 1, 'trash137.jpg': 6, 'cardboard353.jpg': 3, 'glass464.jpg': 1, 'glass376.jpg': 1, 'metal26.jpg': 5, 'paper400.jpg': 2, 'cardboard377.jpg': 3, 'metal153.jpg': 5, 'paper497.jpg': 2, 'plastic403.jpg': 4, 'glass499.jpg': 1, 'metal185.jpg': 5, 'paper475.jpg': 2, 'glass24.jpg': 1, 'trash126.jpg': 6, 'cardboard359.jpg': 3, 'glass243.jpg': 1, 'paper463.jpg': 2, 'paper265.jpg': 2, 'plastic298.jpg': 4, 'plastic254.jpg': 4, 'metal6.jpg': 5, 'glass368.jpg': 1, 'glass86.jpg': 1, 'glass216.jpg': 1, 'paper277.jpg': 2, 'glass409.jpg': 1, 'plastic451.jpg': 4, 'glass157.jpg': 1, 'plastic104.jpg': 4, 'cardboard244.jpg': 3, 'glass369.jpg': 1, 'cardboard133.jpg': 3, 'paper95.jpg': 2, 'plastic231.jpg': 4, 'cardboard316.jpg': 3, 'plastic149.jpg': 4, 'plastic128.jpg': 4, 'glass32.jpg': 1, 'plastic430.jpg': 4, 'plastic219.jpg': 4, 'paper157.jpg': 2, 'plastic440.jpg': 4, 'cardboard37.jpg': 3, 'trash134.jpg': 6, 'paper526.jpg': 2, 'plastic92.jpg': 4, 'trash68.jpg': 6, 'paper459.jpg': 2, 'metal151.jpg': 5, 'cardboard155.jpg': 3, 'paper226.jpg': 2, 'plastic352.jpg': 4, 'paper408.jpg': 2, 'plastic136.jpg': 4, 'trash116.jpg': 6, 'paper310.jpg': 2, 'glass98.jpg': 1, 'cardboard288.jpg': 3, 'plastic41.jpg': 4, 'cardboard394.jpg': 3, 'cardboard107.jpg': 3, 'glass355.jpg': 1, 'metal29.jpg': 5, 'metal268.jpg': 5, 'plastic339.jpg': 4, 'plastic141.jpg': 4, 'trash2.jpg': 6, 'cardboard139.jpg': 3, 'plastic178.jpg': 4, 'plastic459.jpg': 4, 'cardboard151.jpg': 3, 'glass138.jpg': 1, 'paper531.jpg': 2, 'cardboard351.jpg': 3, 'trash97.jpg': 6, 'plastic355.jpg': 4, 'plastic427.jpg': 4, 'glass440.jpg': 1, 'paper245.jpg': 2, 'paper451.jpg': 2, 'paper133.jpg': 2, 'plastic181.jpg': 4, 'plastic35.jpg': 4, 'metal56.jpg': 5, 'glass405.jpg': 1, 'metal111.jpg': 5, 'cardboard122.jpg': 3, 'paper90.jpg': 2, 'paper332.jpg': 2, 'paper391.jpg': 2, 'glass248.jpg': 1, 'metal147.jpg': 5, 'plastic299.jpg': 4, 'metal308.jpg': 5, 'glass324.jpg': 1, 'cardboard46.jpg': 3, 'cardboard32.jpg': 3, 'metal72.jpg': 5, 'cardboard250.jpg': 3, 'cardboard327.jpg': 3, 'cardboard249.jpg': 3, 'paper297.jpg': 2, 'plastic263.jpg': 4, 'cardboard344.jpg': 3, 'glass316.jpg': 1, 'paper314.jpg': 2, 'plastic58.jpg': 4, 'cardboard199.jpg': 3, 'paper364.jpg': 2, 'plastic24.jpg': 4, 'paper150.jpg': 2, 'cardboard131.jpg': 3, 'cardboard386.jpg': 3, 'paper121.jpg': 2, 'cardboard42.jpg': 3, 'plastic360.jpg': 4, 'glass251.jpg': 1, 'metal348.jpg': 5, 'plastic222.jpg': 4, 'paper327.jpg': 2, 'glass14.jpg': 1, 'trash7.jpg': 6, 'paper333.jpg': 2, 'glass477.jpg': 1, 'plastic358.jpg': 4, 'cardboard380.jpg': 3, 'paper288.jpg': 2, 'paper345.jpg': 2, 'plastic68.jpg': 4, 'paper426.jpg': 2, 'metal244.jpg': 5, 'plastic301.jpg': 4, 'paper372.jpg': 2, 'plastic108.jpg': 4, 'paper326.jpg': 2, 'paper330.jpg': 2, 'glass269.jpg': 1, 'cardboard100.jpg': 3, 'cardboard170.jpg': 3, 'paper399.jpg': 2, 'plastic417.jpg': 4, 'plastic65.jpg': 4, 'paper158.jpg': 2, 'glass252.jpg': 1, 'metal396.jpg': 5, 'glass127.jpg': 1, 'plastic109.jpg': 4, 'glass359.jpg': 1, 'metal218.jpg': 5, 'metal22.jpg': 5, 'paper501.jpg': 2, 'glass391.jpg': 1, 'plastic51.jpg': 4, 'metal303.jpg': 5, 'plastic341.jpg': 4, 'plastic175.jpg': 4, 'glass335.jpg': 1, 'cardboard270.jpg': 3, 'glass236.jpg': 1, 'paper71.jpg': 2, 'paper511.jpg': 2, 'paper152.jpg': 2, 'trash119.jpg': 6, 'metal73.jpg': 5, 'paper488.jpg': 2, 'paper177.jpg': 2, 'cardboard180.jpg': 3, 'glass126.jpg': 1, 'metal44.jpg': 5, 'metal354.jpg': 5, 'plastic365.jpg': 4, 'paper418.jpg': 2, 'plastic431.jpg': 4, 'glass199.jpg': 1, 'metal362.jpg': 5, 'cardboard278.jpg': 3, 'metal230.jpg': 5, 'metal388.jpg': 5, 'metal345.jpg': 5, 'paper578.jpg': 2, 'glass46.jpg': 1, 'metal371.jpg': 5, 'cardboard5.jpg': 3, 'cardboard104.jpg': 3, 'glass494.jpg': 1, 'metal405.jpg': 5, 'glass484.jpg': 1, 'paper374.jpg': 6, 'paper344.jpg': 2, 'metal331.jpg': 5, 'cardboard12.jpg': 3, 'plastic474.jpg': 4, 'trash89.jpg': 6, 'paper415.jpg': 2, 'metal11.jpg': 5, 'glass285.jpg': 1, 'paper584.jpg': 2, 'metal397.jpg': 5, 'cardboard326.jpg': 3, 'paper516.jpg': 2, 'cardboard393.jpg': 3, 'cardboard41.jpg': 3, 'paper64.jpg': 2, 'glass15.jpg': 1, 'paper336.jpg': 2, 'cardboard253.jpg': 3, 'paper145.jpg': 2, 'paper72.jpg': 2, 'cardboard280.jpg': 3, 'paper82.jpg': 2, 'paper38.jpg': 2, 'paper206.jpg': 2, 'glass186.jpg': 1, 'metal376.jpg': 5, 'trash33.jpg': 6, 'glass100.jpg': 1, 'metal67.jpg': 5, 'glass399.jpg': 1, 'metal336.jpg': 5, 'plastic326.jpg': 4, 'plastic36.jpg': 4, 'glass115.jpg': 1, 'glass401.jpg': 1, 'glass434.jpg': 1, 'paper119.jpg': 2, 'metal240.jpg': 5, 'metal36.jpg': 5, 'paper170.jpg': 2, 'trash6.jpg': 6, 'glass362.jpg': 1, 'paper386.jpg': 2, 'metal305.jpg': 5, 'glass351.jpg': 1, 'paper74.jpg': 2, 'cardboard268.jpg': 3, 'metal174.jpg': 5, 'glass41.jpg': 1, 'glass396.jpg': 1, 'plastic481.jpg': 4, 'paper318.jpg': 2, 'metal61.jpg': 5, 'glass64.jpg': 1, 'glass134.jpg': 1, 'cardboard137.jpg': 3, 'cardboard30.jpg': 3, 'paper253.jpg': 2, 'paper15.jpg': 2, 'glass408.jpg': 1, 'trash98.jpg': 6, 'paper212.jpg': 2, 'paper85.jpg': 2, 'glass473.jpg': 1, 'plastic6.jpg': 4, 'plastic325.jpg': 4, 'cardboard134.jpg': 3, 'cardboard232.jpg': 3, 'cardboard355.jpg': 3, 'paper428.jpg': 2, 'plastic378.jpg': 4, 'glass344.jpg': 1, 'trash84.jpg': 6, 'metal21.jpg': 5, 'plastic419.jpg': 4, 'plastic255.jpg': 4, 'paper193.jpg': 2, 'paper300.jpg': 2, 'trash129.jpg': 6, 'cardboard212.jpg': 3, 'glass379.jpg': 1, 'paper281.jpg': 2, 'cardboard29.jpg': 3, 'paper41.jpg': 2, 'glass34.jpg': 1, 'glass108.jpg': 1, 'paper452.jpg': 2, 'cardboard396.jpg': 3, 'paper249.jpg': 2, 'glass185.jpg': 1, 'glass436.jpg': 1, 'glass16.jpg': 1, 'paper347.jpg': 2, 'metal322.jpg': 5, 'cardboard303.jpg': 3, 'paper431.jpg': 2, 'cardboard348.jpg': 3, 'glass274.jpg': 1, 'cardboard294.jpg': 3, 'metal319.jpg': 5, 'cardboard223.jpg': 3, 'metal228.jpg': 5, 'trash59.jpg': 6, 'glass230.jpg': 1, 'paper250.jpg': 2, 'plastic369.jpg': 4, 'metal126.jpg': 5, 'glass175.jpg': 1, 'cardboard187.jpg': 3, 'paper581.jpg': 2, 'plastic394.jpg': 4, 'glass229.jpg': 1, 'paper328.jpg': 2, 'glass500.jpg': 1, 'trash37.jpg': 6, 'plastic387.jpg': 4, 'metal51.jpg': 5, 'paper572.jpg': 2, 'cardboard225.jpg': 3, 'paper174.jpg': 2, 'metal69.jpg': 5, 'glass183.jpg': 1, 'cardboard374.jpg': 3, 'trash96.jpg': 6, 'plastic20.jpg': 4, 'paper132.jpg': 2, 'plastic482.jpg': 4, 'metal75.jpg': 5, 'glass90.jpg': 1, 'metal89.jpg': 5, 'trash121.jpg': 6, 'plastic23.jpg': 4, 'cardboard357.jpg': 3, 'cardboard60.jpg': 3, 'paper24.jpg': 2, 'glass215.jpg': 1, 'cardboard297.jpg': 3, 'paper25.jpg': 2, 'cardboard158.jpg': 3, 'glass4.jpg': 1, 'plastic97.jpg': 4, 'paper231.jpg': 2, 'glass71.jpg': 1, 'paper299.jpg': 2, 'plastic189.jpg': 4, 'paper216.jpg': 2, 'paper237.jpg': 2, 'plastic248.jpg': 4, 'glass104.jpg': 1, 'metal160.jpg': 5, 'cardboard103.jpg': 3, 'glass453.jpg': 1, 'cardboard318.jpg': 3, 'plastic111.jpg': 4, 'paper293.jpg': 2, 'paper351.jpg': 2, 'paper315.jpg': 2, 'plastic351.jpg': 4, 'plastic456.jpg': 4, 'cardboard33.jpg': 3, 'paper287.jpg': 2, 'cardboard298.jpg': 3, 'glass302.jpg': 1, 'cardboard84.jpg': 3, 'plastic338.jpg': 4, 'plastic293.jpg': 4, 'trash41.jpg': 6, 'paper130.jpg': 2, 'plastic467.jpg': 4, 'paper101.jpg': 2, 'metal238.jpg': 5, 'glass37.jpg': 1, 'paper580.jpg': 2, 'paper467.jpg': 2, 'cardboard97.jpg': 3, 'cardboard166.jpg': 3, 'plastic278.jpg': 4, 'trash130.jpg': 6, 'cardboard64.jpg': 3, 'cardboard245.jpg': 3, 'cardboard75.jpg': 3, 'glass452.jpg': 1, 'cardboard142.jpg': 3, 'plastic409.jpg': 4, 'cardboard226.jpg': 3, 'glass17.jpg': 1, 'metal137.jpg': 5, 'trash128.jpg': 6, 'glass133.jpg': 1, 'paper10.jpg': 2, 'plastic221.jpg': 4, 'metal78.jpg': 5, 'plastic61.jpg': 4, 'plastic443.jpg': 4, 'cardboard146.jpg': 3, 'plastic296.jpg': 4, 'paper60.jpg': 2, 'paper141.jpg': 2, 'glass40.jpg': 1, 'paper571.jpg': 2, 'paper221.jpg': 2, 'plastic380.jpg': 4, 'cardboard39.jpg': 3, 'glass483.jpg': 1, 'metal212.jpg': 5, 'plastic164.jpg': 4, 'glass237.jpg': 1, 'glass291.jpg': 1, 'plastic224.jpg': 4, 'paper47.jpg': 2, 'glass169.jpg': 1, 'plastic25.jpg': 4, 'metal144.jpg': 5, 'plastic350.jpg': 4, 'plastic223.jpg': 4, 'paper50.jpg': 2, 'metal206.jpg': 5, 'plastic281.jpg': 4, 'paper489.jpg': 2, 'plastic157.jpg': 4, 'cardboard381.jpg': 3, 'plastic309.jpg': 4, 'glass314.jpg': 1, 'paper255.jpg': 2, 'metal294.jpg': 5, 'cardboard296.jpg': 3, 'glass394.jpg': 1, 'trash23.jpg': 6, 'paper1.jpg': 2, 'trash11.jpg': 6, 'trash26.jpg': 6, 'cardboard277.jpg': 3, 'trash64.jpg': 6, 'metal109.jpg': 5, 'paper590.jpg': 4, 'cardboard305.jpg': 3, 'plastic186.jpg': 4, 'trash114.jpg': 6, 'paper559.jpg': 2, 'plastic220.jpg': 4, 'plastic455.jpg': 4, 'cardboard157.jpg': 3, 'plastic412.jpg': 4, 'plastic313.jpg': 4, 'metal148.jpg': 5, 'glass312.jpg': 1, 'cardboard145.jpg': 3, 'plastic196.jpg': 4, 'glass342.jpg': 1, 'metal353.jpg': 5, 'glass319.jpg': 1, 'cardboard194.jpg': 3, 'plastic83.jpg': 4, 'glass356.jpg': 1, 'cardboard179.jpg': 3, 'cardboard295.jpg': 3, 'plastic121.jpg': 4, 'plastic162.jpg': 4, 'paper207.jpg': 2, 'metal110.jpg': 5, 'metal64.jpg': 5, 'glass147.jpg': 1, 'plastic343.jpg': 4, 'metal399.jpg': 5, 'cardboard173.jpg': 3, 'metal309.jpg': 5, 'metal83.jpg': 5, 'glass70.jpg': 1, 'glass458.jpg': 1, 'metal223.jpg': 5, 'paper419.jpg': 2, 'metal158.jpg': 5, 'trash17.jpg': 6, 'metal316.jpg': 5, 'glass433.jpg': 1, 'paper42.jpg': 2, 'metal14.jpg': 5, 'cardboard109.jpg': 3, 'metal293.jpg': 5, 'glass393.jpg': 1, 'paper34.jpg': 2, 'glass457.jpg': 1, 'paper258.jpg': 2, 'paper359.jpg': 2, 'glass234.jpg': 1, 'trash54.jpg': 6, 'plastic89.jpg': 4, 'metal304.jpg': 5, 'cardboard38.jpg': 3, 'metal264.jpg': 5, 'glass495.jpg': 1, 'trash104.jpg': 6, 'glass367.jpg': 1, 'paper43.jpg': 2, 'cardboard82.jpg': 3, 'glass326.jpg': 1, 'metal398.jpg': 5, 'paper433.jpg': 2, 'trash16.jpg': 6, 'cardboard72.jpg': 3, 'cardboard267.jpg': 3, 'glass296.jpg': 1, 'cardboard165.jpg': 3, 'metal407.jpg': 5, 'paper470.jpg': 2, 'trash133.jpg': 6, 'glass331.jpg': 1, 'cardboard26.jpg': 3, 'paper546.jpg': 2, 'metal162.jpg': 5, 'glass18.jpg': 1, 'plastic384.jpg': 4, 'glass63.jpg': 1, 'plastic284.jpg': 4, 'glass455.jpg': 1, 'glass337.jpg': 1, 'trash30.jpg': 6, 'paper589.jpg': 3, 'cardboard263.jpg': 3, 'cardboard364.jpg': 3, 'paper304.jpg': 3, 'cardboard271.jpg': 3, 'paper123.jpg': 2, 'plastic55.jpg': 4, 'glass378.jpg': 1, 'paper491.jpg': 2, 'glass441.jpg': 1, 'glass29.jpg': 1, 'cardboard279.jpg': 3, 'cardboard147.jpg': 3, 'plastic377.jpg': 4, 'metal302.jpg': 5, 'paper201.jpg': 5, 'cardboard368.jpg': 3, 'plastic256.jpg': 4, 'cardboard345.jpg': 3, 'paper213.jpg': 3, 'paper469.jpg': 4, 'plastic342.jpg': 4, 'plastic165.jpg': 4, 'glass117.jpg': 1, 'glass333.jpg': 1, 'plastic400.jpg': 4, 'plastic245.jpg': 4, 'plastic229.jpg': 4, 'plastic74.jpg': 4, 'plastic458.jpg': 4, 'paper535.jpg': 2, 'paper261.jpg': 2, 'trash65.jpg': 6, 'plastic113.jpg': 4, 'paper146.jpg': 2, 'plastic230.jpg': 4, 'trash76.jpg': 6, 'paper190.jpg': 2, 'glass246.jpg': 1, 'plastic441.jpg': 4, 'paper18.jpg': 2, 'glass431.jpg': 1, 'metal402.jpg': 5, 'glass273.jpg': 1, 'plastic234.jpg': 4, 'cardboard186.jpg': 3, 'metal88.jpg': 5, 'cardboard11.jpg': 3, 'paper92.jpg': 2, 'plastic480.jpg': 4, 'metal408.jpg': 5, 'metal40.jpg': 5, 'glass327.jpg': 1, 'glass387.jpg': 1, 'plastic454.jpg': 4, 'paper406.jpg': 2, 'plastic184.jpg': 4, 'paper140.jpg': 2, 'cardboard205.jpg': 3, 'plastic148.jpg': 4, 'plastic183.jpg': 4, 'paper182.jpg': 2, 'plastic295.jpg': 4, 'plastic404.jpg': 4, 'metal315.jpg': 5, 'glass404.jpg': 1, 'glass271.jpg': 1, 'paper427.jpg': 2, 'glass208.jpg': 1, 'glass178.jpg': 1, 'cardboard116.jpg': 3, 'plastic453.jpg': 4, 'paper349.jpg': 2, 'plastic329.jpg': 4, 'plastic363.jpg': 4, 'paper23.jpg': 2, 'metal39.jpg': 5, 'glass56.jpg': 1, 'plastic75.jpg': 4, 'cardboard123.jpg': 3, 'paper45.jpg': 2, 'glass224.jpg': 1, 'glass447.jpg': 1, 'paper335.jpg': 2, 'glass295.jpg': 1, 'metal141.jpg': 5, 'glass461.jpg': 1, 'plastic243.jpg': 4, 'trash24.jpg': 6, 'paper480.jpg': 2, 'glass156.jpg': 1, 'paper246.jpg': 2, 'glass253.jpg': 1, 'plastic95.jpg': 4, 'metal138.jpg': 5, 'plastic316.jpg': 4, 'glass5.jpg': 1, 'metal104.jpg': 5, 'plastic3.jpg': 4, 'cardboard20.jpg': 3, 'trash87.jpg': 4, 'paper280.jpg': 2, 'paper251.jpg': 2, 'metal334.jpg': 5, 'metal167.jpg': 5, 'plastic37.jpg': 4, 'glass263.jpg': 1, 'trash124.jpg': 3, 'cardboard21.jpg': 3, 'glass101.jpg': 1, 'glass345.jpg': 1, 'cardboard219.jpg': 3, 'metal150.jpg': 5, 'trash123.jpg': 6, 'cardboard317.jpg': 3, 'glass26.jpg': 1, 'plastic240.jpg': 4, 'paper260.jpg': 2, 'glass328.jpg': 1, 'paper292.jpg': 2, 'glass417.jpg': 1, 'glass214.jpg': 1, 'paper203.jpg': 2, 'metal207.jpg': 5, 'plastic91.jpg': 4, 'metal179.jpg': 5, 'cardboard91.jpg': 3, 'plastic476.jpg': 4, 'cardboard93.jpg': 3, 'metal210.jpg': 5, 'paper441.jpg': 2, 'glass339.jpg': 1, 'plastic425.jpg': 4, 'metal222.jpg': 5, 'plastic147.jpg': 4, 'plastic137.jpg': 4, 'plastic33.jpg': 4, 'plastic437.jpg': 4, 'metal121.jpg': 5, 'plastic370.jpg': 4, 'paper376.jpg': 3, 'cardboard196.jpg': 3, 'glass498.jpg': 1, 'plastic188.jpg': 4, 'paper565.jpg': 2, 'paper324.jpg': 2, 'paper127.jpg': 2, 'plastic123.jpg': 4, 'trash5.jpg': 6, 'glass124.jpg': 1, 'paper29.jpg': 2, 'plastic408.jpg': 4, 'cardboard161.jpg': 3, 'cardboard390.jpg': 3, 'trash99.jpg': 6, 'glass407.jpg': 1, 'metal118.jpg': 5, 'paper241.jpg': 2, 'metal190.jpg': 5, 'trash27.jpg': 6, 'glass151.jpg': 1, 'cardboard35.jpg': 3, 'cardboard77.jpg': 3, 'metal168.jpg': 5, 'paper519.jpg': 2, 'paper259.jpg': 2, 'metal369.jpg': 5, 'paper234.jpg': 2, 'glass332.jpg': 1, 'metal257.jpg': 5, 'paper116.jpg': 2, 'glass107.jpg': 1, 'glass191.jpg': 1, 'plastic413.jpg': 4, 'glass389.jpg': 1, 'metal381.jpg': 5, 'metal310.jpg': 5, 'metal392.jpg': 5, 'paper551.jpg': 2, 'cardboard365.jpg': 3, 'paper564.jpg': 2, 'cardboard360.jpg': 3, 'metal194.jpg': 5, 'trash20.jpg': 6, 'cardboard341.jpg': 3, 'glass137.jpg': 1, 'metal285.jpg': 5, 'glass99.jpg': 1, 'plastic151.jpg': 4, 'paper583.jpg': 3, 'glass220.jpg': 1, 'cardboard83.jpg': 3, 'paper453.jpg': 2, 'paper139.jpg': 2, 'metal189.jpg': 5, 'glass346.jpg': 1, 'glass259.jpg': 1, 'paper262.jpg': 2, 'trash51.jpg': 6, 'cardboard220.jpg': 3, 'paper479.jpg': 2, 'trash115.jpg': 6, 'metal400.jpg': 5, 'plastic174.jpg': 4, 'paper435.jpg': 2, 'cardboard331.jpg': 3, 'metal166.jpg': 5, 'metal8.jpg': 5, 'glass377.jpg': 1, 'metal122.jpg': 5, 'metal156.jpg': 5, 'metal96.jpg': 5, 'glass303.jpg': 1, 'glass277.jpg': 1, 'paper122.jpg': 2, 'glass95.jpg': 1, 'metal129.jpg': 5, 'metal307.jpg': 5, 'cardboard398.jpg': 3, 'plastic127.jpg': 4, 'paper594.jpg': 3, 'paper89.jpg': 2, 'plastic249.jpg': 4, 'plastic446.jpg': 4, 'cardboard150.jpg': 3, 'cardboard68.jpg': 3, 'metal17.jpg': 5, 'paper423.jpg': 2, 'metal266.jpg': 5, 'cardboard207.jpg': 3, 'plastic235.jpg': 4, 'trash107.jpg': 6, 'plastic199.jpg': 4, 'metal45.jpg': 5, 'metal254.jpg': 5, 'glass462.jpg': 1, 'cardboard141.jpg': 3, 'metal365.jpg': 5, 'glass381.jpg': 1, 'metal169.jpg': 5, 'cardboard257.jpg': 3, 'metal60.jpg': 5, 'glass363.jpg': 1, 'metal284.jpg': 5, 'metal182.jpg': 5, 'glass212.jpg': 1, 'cardboard1.jpg': 3, 'paper498.jpg': 2, 'plastic273.jpg': 4, 'paper54.jpg': 2, 'glass38.jpg': 1, 'plastic436.jpg': 4, 'glass109.jpg': 1, 'glass187.jpg': 1, 'metal234.jpg': 5, 'plastic432.jpg': 4, 'glass491.jpg': 1, 'metal91.jpg': 5, 'metal211.jpg': 5, 'glass11.jpg': 1, 'paper437.jpg': 2, 'paper22.jpg': 2, 'glass171.jpg': 1, 'paper105.jpg': 2, 'plastic171.jpg': 4, 'glass334.jpg': 1, 'metal340.jpg': 5, 'cardboard117.jpg': 3, 'trash81.jpg': 6, 'paper397.jpg': 2, 'metal299.jpg': 5, 'plastic169.jpg': 4, 'paper14.jpg': 2, 'plastic321.jpg': 4, 'glass266.jpg': 1, 'metal32.jpg': 5, 'glass233.jpg': 1, 'plastic85.jpg': 4, 'paper317.jpg': 2, 'paper117.jpg': 2, 'plastic120.jpg': 4, 'metal85.jpg': 5, 'paper455.jpg': 2, 'paper420.jpg': 2, 'metal19.jpg': 5, 'cardboard48.jpg': 3, 'metal98.jpg': 5, 'cardboard389.jpg': 3, 'cardboard54.jpg': 3, 'paper334.jpg': 6, 'plastic277.jpg': 4, 'metal391.jpg': 5, 'metal378.jpg': 5, 'trash66.jpg': 6, 'paper295.jpg': 2, 'metal3.jpg': 5, 'paper360.jpg': 2, 'metal86.jpg': 5, 'glass240.jpg': 1, 'glass62.jpg': 1, 'glass210.jpg': 1, 'paper270.jpg': 2, 'cardboard15.jpg': 3, 'plastic258.jpg': 4, 'cardboard335.jpg': 3, 'paper524.jpg': 2, 'plastic337.jpg': 4, 'trash135.jpg': 6, 'paper484.jpg': 2, 'metal173.jpg': 5, 'trash85.jpg': 6, 'metal409.jpg': 5, 'plastic203.jpg': 4, 'paper577.jpg': 3, 'plastic81.jpg': 4, 'plastic62.jpg': 4, 'glass300.jpg': 1, 'plastic297.jpg': 4, 'trash73.jpg': 6, 'plastic247.jpg': 4, 'metal236.jpg': 5, 'glass244.jpg': 1, 'glass225.jpg': 1, 'glass131.jpg': 1, 'metal235.jpg': 5, 'metal203.jpg': 5, 'metal330.jpg': 5, 'plastic130.jpg': 4, 'plastic191.jpg': 4, 'metal16.jpg': 5, 'glass294.jpg': 1, 'cardboard391.jpg': 3, 'metal145.jpg': 5, 'plastic392.jpg': 4, 'paper439.jpg': 2, 'metal265.jpg': 5, 'paper159.jpg': 2, 'metal237.jpg': 5, 'cardboard171.jpg': 3, 'metal191.jpg': 5, 'metal94.jpg': 5, 'cardboard189.jpg': 3, 'glass435.jpg': 1, 'paper172.jpg': 2, 'cardboard168.jpg': 3, 'plastic382.jpg': 4, 'paper561.jpg': 2, 'glass265.jpg': 1, 'cardboard300.jpg': 3, 'metal204.jpg': 5, 'paper215.jpg': 2, 'cardboard217.jpg': 3, 'paper51.jpg': 2, 'glass205.jpg': 1, 'plastic287.jpg': 4, 'paper135.jpg': 2, 'cardboard315.jpg': 3, 'metal290.jpg': 5, 'trash55.jpg': 6, 'plastic200.jpg': 4, 'paper588.jpg': 3, 'cardboard156.jpg': 3, 'paper166.jpg': 3, 'plastic362.jpg': 4, 'trash103.jpg': 6, 'cardboard193.jpg': 3, 'plastic142.jpg': 4, 'cardboard132.jpg': 3, 'paper582.jpg': 2, 'paper358.jpg': 2, 'plastic407.jpg': 4, 'glass315.jpg': 1, 'paper243.jpg': 2, 'plastic73.jpg': 4, 'cardboard247.jpg': 3, 'paper62.jpg': 2, 'plastic375.jpg': 4, 'paper494.jpg': 2, 'cardboard333.jpg': 3, 'plastic216.jpg': 4, 'metal245.jpg': 5, 'cardboard118.jpg': 3, 'plastic110.jpg': 4, 'plastic333.jpg': 4, 'plastic212.jpg': 4, 'paper316.jpg': 2, 'metal90.jpg': 5, 'plastic393.jpg': 4, 'paper214.jpg': 2, 'cardboard382.jpg': 3, 'paper573.jpg': 3, 'metal390.jpg': 5, 'plastic57.jpg': 4, 'metal37.jpg': 5, 'paper11.jpg': 2, 'plastic322.jpg': 4, 'paper375.jpg': 2, 'cardboard254.jpg': 3, 'paper377.jpg': 2, 'metal338.jpg': 5, 'plastic71.jpg': 4, 'trash102.jpg': 6, 'trash62.jpg': 6, 'glass360.jpg': 1, 'cardboard322.jpg': 3, 'cardboard192.jpg': 3, 'glass400.jpg': 1, 'cardboard330.jpg': 3, 'paper35.jpg': 2, 'glass21.jpg': 1, 'plastic331.jpg': 4, 'trash127.jpg': 6, 'paper403.jpg': 2, 'paper153.jpg': 2, 'glass81.jpg': 1, 'cardboard50.jpg': 3, 'plastic354.jpg': 4, 'metal66.jpg': 5, 'plastic72.jpg': 4, 'paper343.jpg': 2, 'plastic302.jpg': 4, 'paper115.jpg': 2, 'trash72.jpg': 6, 'glass111.jpg': 1, 'glass410.jpg': 1, 'glass143.jpg': 1, 'glass51.jpg': 1, 'paper390.jpg': 2, 'metal28.jpg': 5, 'glass47.jpg': 1, 'glass419.jpg': 1, 'paper395.jpg': 2, 'trash43.jpg': 6, 'plastic291.jpg': 4, 'cardboard152.jpg': 3, 'cardboard234.jpg': 3, 'plastic90.jpg': 4, 'trash22.jpg': 3, 'plastic225.jpg': 4, 'plastic445.jpg': 4, 'paper510.jpg': 2, 'glass204.jpg': 1, 'paper238.jpg': 2, 'cardboard129.jpg': 3, 'cardboard153.jpg': 3, 'trash86.jpg': 6, 'cardboard67.jpg': 3, 'glass383.jpg': 1, 'glass235.jpg': 1, 'plastic100.jpg': 4, 'trash39.jpg': 6, 'glass258.jpg': 1, 'plastic288.jpg': 4, 'plastic448.jpg': 4, 'plastic9.jpg': 4, 'paper436.jpg': 2, 'plastic294.jpg': 4, 'cardboard302.jpg': 3, 'cardboard195.jpg': 3, 'glass219.jpg': 1, 'metal10.jpg': 5, 'plastic319.jpg': 4, 'plastic22.jpg': 4, 'paper553.jpg': 2, 'cardboard243.jpg': 3, 'glass142.jpg': 1, 'paper108.jpg': 2, 'cardboard14.jpg': 3, 'glass260.jpg': 1, 'plastic52.jpg': 4, 'glass196.jpg': 1, 'glass106.jpg': 1, 'metal140.jpg': 5, 'cardboard163.jpg': 3, 'glass238.jpg': 1, 'plastic215.jpg': 4, 'glass9.jpg': 1, 'cardboard167.jpg': 3, 'paper264.jpg': 2, 'cardboard25.jpg': 3, 'paper2.jpg': 2, 'metal71.jpg': 5, 'glass232.jpg': 1, 'glass420.jpg': 1, 'plastic8.jpg': 4, 'paper509.jpg': 2, 'paper247.jpg': 2, 'plastic43.jpg': 4, 'glass197.jpg': 1, 'glass501.jpg': 1, 'cardboard269.jpg': 3, 'metal76.jpg': 5, 'plastic112.jpg': 4, 'glass475.jpg': 1, 'plastic318.jpg': 4, 'plastic77.jpg': 4, 'plastic274.jpg': 4, 'cardboard178.jpg': 3, 'glass25.jpg': 1, 'plastic40.jpg': 4, 'metal380.jpg': 5, 'trash15.jpg': 6, 'cardboard10.jpg': 3, 'glass226.jpg': 1, 'trash95.jpg': 6, 'paper371.jpg': 2, 'metal55.jpg': 5, 'plastic415.jpg': 4, 'plastic323.jpg': 4, 'cardboard392.jpg': 3, 'plastic192.jpg': 4, 'glass207.jpg': 1, 'metal229.jpg': 5, 'cardboard59.jpg': 3, 'paper5.jpg': 2, 'metal226.jpg': 5, 'cardboard56.jpg': 3, 'glass321.jpg': 1, 'metal357.jpg': 5, 'plastic336.jpg': 4, 'paper187.jpg': 2, 'paper438.jpg': 2, 'metal193.jpg': 5, 'paper412.jpg': 2, 'glass2.jpg': 1, 'plastic194.jpg': 4, 'metal311.jpg': 5, 'cardboard47.jpg': 3, 'paper102.jpg': 2, 'glass85.jpg': 1, 'metal31.jpg': 5, 'glass27.jpg': 1, 'plastic50.jpg': 4, 'glass320.jpg': 1, 'metal124.jpg': 5, 'paper560.jpg': 2, 'glass471.jpg': 1, 'cardboard27.jpg': 3, 'cardboard328.jpg': 3, 'metal358.jpg': 5, 'cardboard144.jpg': 3, 'trash108.jpg': 6, 'plastic244.jpg': 4, 'trash34.jpg': 4, 'metal181.jpg': 5, 'cardboard138.jpg': 3, 'paper65.jpg': 2, 'glass305.jpg': 1, 'plastic86.jpg': 4, 'plastic353.jpg': 4, 'metal281.jpg': 5, 'metal241.jpg': 5, 'plastic361.jpg': 4, 'plastic272.jpg': 4, 'plastic460.jpg': 4, 'glass390.jpg': 1, 'glass290.jpg': 1, 'metal383.jpg': 5, 'glass444.jpg': 1, 'paper440.jpg': 2, 'cardboard181.jpg': 3, 'trash118.jpg': 6, 'plastic135.jpg': 4, 'cardboard52.jpg': 3, 'paper382.jpg': 2, 'paper329.jpg': 2, 'cardboard174.jpg': 3, 'paper554.jpg': 3, 'plastic462.jpg': 4, 'cardboard113.jpg': 3, 'plastic422.jpg': 4, 'plastic364.jpg': 4, 'plastic16.jpg': 4, 'metal295.jpg': 5, 'paper278.jpg': 2, 'glass43.jpg': 1, 'plastic402.jpg': 4, 'cardboard350.jpg': 3, 'paper248.jpg': 2, 'cardboard209.jpg': 3, 'plastic439.jpg': 4, 'glass209.jpg': 1, 'cardboard367.jpg': 3, 'paper268.jpg': 2, 'plastic367.jpg': 4, 'plastic406.jpg': 4, 'paper202.jpg': 2, 'metal183.jpg': 5, 'glass6.jpg': 1, 'metal41.jpg': 5, 'paper254.jpg': 2, 'metal259.jpg': 5, 'trash52.jpg': 6, 'glass330.jpg': 1, 'glass180.jpg': 1, 'glass402.jpg': 1, 'plastic463.jpg': 4, 'paper555.jpg': 2, 'plastic292.jpg': 4, 'glass44.jpg': 1, 'paper98.jpg': 2, 'glass3.jpg': 1, 'metal342.jpg': 5, 'glass31.jpg': 1, 'metal273.jpg': 5, 'cardboard325.jpg': 3, 'metal216.jpg': 5, 'metal314.jpg': 5, 'paper432.jpg': 2, 'glass371.jpg': 1, 'metal208.jpg': 5, 'metal271.jpg': 5, 'plastic163.jpg': 4, 'plastic12.jpg': 4, 'plastic250.jpg': 4, 'paper28.jpg': 2, 'cardboard206.jpg': 3, 'metal202.jpg': 5, 'paper87.jpg': 2, 'glass184.jpg': 1, 'paper533.jpg': 2, 'glass82.jpg': 1, 'metal288.jpg': 5, 'metal282.jpg': 5, 'glass217.jpg': 1, 'plastic237.jpg': 4, 'cardboard126.jpg': 3, 'plastic31.jpg': 4, 'metal278.jpg': 5, 'metal272.jpg': 5, 'cardboard236.jpg': 3, 'plastic46.jpg': 4, 'plastic193.jpg': 4, 'cardboard130.jpg': 3, 'paper307.jpg': 2, 'plastic356.jpg': 4, 'cardboard230.jpg': 3, 'metal70.jpg': 5, 'glass165.jpg': 1, 'glass412.jpg': 1, 'metal360.jpg': 5, 'paper176.jpg': 2, 'plastic26.jpg': 4, 'paper486.jpg': 2, 'metal250.jpg': 5, 'trash48.jpg': 6, 'metal277.jpg': 5, 'paper579.jpg': 2, 'glass198.jpg': 1, 'trash90.jpg': 6, 'cardboard164.jpg': 3, 'paper106.jpg': 2, 'cardboard198.jpg': 3, 'glass288.jpg': 1, 'glass449.jpg': 1, 'plastic386.jpg': 4, 'paper430.jpg': 2, 'metal82.jpg': 5, 'paper445.jpg': 2, 'paper30.jpg': 2, 'glass122.jpg': 1, 'plastic19.jpg': 4, 'glass76.jpg': 1, 'cardboard352.jpg': 3, 'plastic320.jpg': 4, 'paper52.jpg': 2, 'paper142.jpg': 2, 'cardboard285.jpg': 3, 'paper49.jpg': 2, 'trash91.jpg': 6, 'cardboard76.jpg': 3, 'cardboard275.jpg': 3, 'metal120.jpg': 5, 'cardboard358.jpg': 3, 'glass308.jpg': 1, 'glass395.jpg': 1, 'cardboard7.jpg': 3, 'glass87.jpg': 1, 'plastic435.jpg': 4, 'cardboard282.jpg': 3, 'trash58.jpg': 6, 'cardboard45.jpg': 3, 'paper184.jpg': 2, 'glass20.jpg': 1, 'plastic134.jpg': 4, 'trash74.jpg': 6, 'paper476.jpg': 2, 'metal313.jpg': 5, 'paper160.jpg': 2, 'plastic477.jpg': 4, 'plastic78.jpg': 4, 'cardboard395.jpg': 3, 'paper283.jpg': 3, 'metal135.jpg': 5, 'metal260.jpg': 5, 'glass103.jpg': 1, 'glass279.jpg': 1, 'cardboard119.jpg': 3, 'paper298.jpg': 2, 'paper210.jpg': 2, 'paper285.jpg': 2, 'cardboard74.jpg': 3, 'paper308.jpg': 2, 'paper191.jpg': 2, 'plastic167.jpg': 4, 'metal384.jpg': 5, 'paper402.jpg': 2, 'plastic105.jpg': 4, 'metal105.jpg': 5, 'metal373.jpg': 5, 'metal287.jpg': 5, 'paper148.jpg': 2, 'glass250.jpg': 1, 'plastic450.jpg': 4, 'metal356.jpg': 5, 'paper321.jpg': 2, 'cardboard338.jpg': 3, 'cardboard185.jpg': 3, 'glass67.jpg': 1, 'glass372.jpg': 1, 'glass158.jpg': 1, 'cardboard197.jpg': 3, 'plastic150.jpg': 4, 'trash69.jpg': 4, 'paper168.jpg': 2, 'plastic418.jpg': 4, 'metal306.jpg': 5, 'cardboard375.jpg': 3, 'metal280.jpg': 5, 'metal242.jpg': 5, 'paper103.jpg': 2, 'plastic211.jpg': 4, 'plastic464.jpg': 4, 'cardboard112.jpg': 3, 'cardboard361.jpg': 3, 'cardboard307.jpg': 3, 'paper309.jpg': 2, 'paper471.jpg': 2, 'glass96.jpg': 1, 'metal117.jpg': 5, 'plastic327.jpg': 4, 'cardboard6.jpg': 3, 'glass283.jpg': 1, 'metal335.jpg': 5, 'plastic133.jpg': 4, 'paper442.jpg': 2, 'ccardboard1.jpg': 3, 'ccardboard2.jpg': 3, 'ccardboard3.jpg': 3, 'ccardboard4.jpg': 3, 'glas1.jpg': 1, 'glas2.jpg': 1, 'glas3.jpg': 1, 'glas4.jpg': 1, 'glas5.jpg': 1, 'glas6.jpg': 1, 'glas7.jpg': 1, 'metaal1.jpg': 5, 'metaal2.jpg': 5, 'metaal3.jpg': 5, 'metaal4.jpg': 5, 'pllastic1.jpg': 4, 'glasss1.jpg': 1, 'glasss3.jpg': 1, 'glasss4.jpg': 1, 'plasticc1.jpg': 4, 'plasticc2.jpg': 4, 'plasticc3.jpg': 4, 'plasticc4.jpg': 4, 'plasticc5.jpg': 4, 'metall1.jpg': 5, 'metall2.jpg': 5, 'metall3.jpg': 5, 'metall4.jpg': 5, 'metall5.jpg': 5, 'c0.jpg': 3, 'c1.jpg': 3, 'c2.jpg': 3, 'c3.jpg': 3, 'c4.jpg': 3, 'c5.jpg': 3, 'c6.jpg': 3, 'c7.jpg': 3, 'c8.jpg': 3, 'c9.jpg': 3, 'c10.jpg': 3, 'c11.jpg': 3, 'c12.jpg': 3, 'c13.jpg': 3, 'c14.jpg': 3, 'c15.jpg': 3, 'c16.jpg': 3, 'c17.jpg': 3, 'c18.jpg': 3, 'g0.jpg': 1, 'g1.jpg': 1, 'g2.jpg': 1, 'g3.jpg': 1, 'g4.jpg': 1, 'g5.jpg': 1, 'g6.jpg': 1, 'g7.jpg': 1, 'g8.jpg': 1, 'g9.jpg': 1, 'm0.jpg': 5, 'm1.jpg': 5, 'm2.jpg': 5, 'm3.jpg': 5, 'm4.jpg': 5, 'm5.jpg': 5, 'm6.jpg': 5, 'm7.jpg': 5, 'm8.jpg': 5, 'm9.jpg': 5, 'm10.jpg': 5, 'p0.jpg': 2, 'p1.jpg': 2, 'p2.jpg': 2, 'p3.jpg': 2, 'p4.jpg': 2, 'pl0.jpg': 4, 'pl1.jpg': 4, 'pl2.jpg': 4, 'pl3.jpg': 4, 'pl4.jpg': 4, 'pl5.jpg': 4, 'pl6.jpg': 4, 'pl7.jpg': 4, 'pl8.jpg': 4, 'pl9.jpg': 4, 'pl10.jpg': 4, 'pl11.jpg': 4, 'pl12.jpg': 4, 'pl13.jpg': 4, 'pl14.jpg': 4, 'pl15.jpg': 4, 'pl16.jpg': 4, 'pl17.jpg': 4, 'pl18.jpg': 4, 'pl19.jpg': 4, 'pl20.jpg': 4, 'pl21.jpg': 4, 'pl22.jpg': 4, 'pl23.jpg': 4, 't0.jpg': 6, 't1.jpg': 6, 't2.jpg': 6, 't3.jpg': 6, 't4.jpg': 6, 'car1.jpeg': 3, 'car2.jpeg': 3, 'car3.jpeg': 3, 'car4.jpeg': 3, 'car5.jpeg': 3, 'car6.jpeg': 3, 'car7.jpeg': 3, 'car8.jpeg': 3, 'car9.jpeg': 3, 'car10.jpeg': 3, 'car11.jpeg': 3, 'gla1.jpeg': 1, 'gla2.jpeg': 1, 'gla3.jpeg': 1, 'gla4.jpeg': 1, 'gla5.jpeg': 1, 'gla6.jpeg': 1, 'gla7.jpeg': 1, 'gla8.jpeg': 1, 'pap1.jpeg': 2, 'pap2.jpeg': 2, 'pap3.jpeg': 2, 'meta1.jpeg': 5, 'meta2.jpeg': 5, 'meta3.jpeg': 5, 'meta4.jpeg': 5, 'meta5.jpeg': 5, 'meta6.jpeg': 5, 'meta7.jpeg': 5, 'meta8.jpeg': 5, 'meta9.jpeg': 5, 'meta10.jpeg': 5, 'meta11.jpeg': 5, 'meta12.jpeg': 5, 'meta13.jpeg': 5, 'meta14.jpeg': 5, 'meta15.jpeg': 5, 'meta16.jpeg': 5, 'meta17.jpeg': 5, 'meta18.jpeg': 5, 'meta19.jpeg': 5, 'meta20.jpeg': 5, 'meta21.jpeg': 5, 'meta22.jpeg': 5, 'meta23.jpeg': 5, 'meta24.jpeg': 5, 'meta25.jpeg': 5, 'meta26.jpeg': 5, 'meta27.jpeg': 5, 'meta28.jpeg': 5, 'meta29.jpeg': 5, 'meta30.jpeg': 5, 'meta31.jpeg': 5, 'meta32.jpeg': 5, 'meta33.jpeg': 5, 'meta34.jpeg': 5, 'meta35.jpeg': 5, 'meta36.jpeg': 5, 'meta37.jpeg': 5, 'meta38.jpeg': 5, 'meta39.jpeg': 5, 'meta40.jpeg': 5, 'meta41.jpeg': 5, 'meta42.jpeg': 5, 'meta43.jpeg': 5, 'meta44.jpeg': 5, 'meta45.jpeg': 5, 'meta46.jpeg': 5, 'meta47.jpeg': 5, 'meta48.jpeg': 5, 'meta49.jpeg': 5, 'meta50.jpeg': 5, 'pla1.jpeg': 4, 'pla2.jpeg': 4, 'pla3.jpeg': 4, 'pla4.jpeg': 4, 'pla5.jpeg': 4, 'pla6.jpeg': 4, 'pla7.jpeg': 4, 'pla8.jpeg': 4, 'pla9.jpeg': 4, 'pla10.jpeg': 4, 'pla11.jpeg': 4, 'pla12.jpeg': 4, 'pla13.jpeg': 4, 'pla14.jpeg': 4, 'pla15.jpeg': 4, 'pla16.jpeg': 4, 'pla17.jpeg': 4, 'pla18.jpeg': 4, 'pla19.jpeg': 4, 'pla20.jpeg': 4, 'pla21.jpeg': 4, 'pla22.jpeg': 4, 'pla23.jpeg': 4, 'pla24.jpeg': 4, 'tra1.jpeg': 6, 'tra2.jpeg': 6, 'tra3.jpeg': 6, 'tra4.jpeg': 6, 'tra5.jpeg': 6, 'tra6.jpeg': 6, 'tra7.jpeg': 6, 'tra8.jpeg': 6}\n",
      "Test Etiketleri: {'paper70.jpg': 2, 'paper380.jpg': 2, 'cardboard31.jpg': 3, 'glass12.jpg': 1, 'paper169.jpg': 2, 'cardboard334.jpg': 3, 'paper271.jpg': 2, 'paper319.jpg': 2, 'glass373.jpg': 1, 'plastic125.jpg': 4, 'cardboard304.jpg': 3, 'metal159.jpg': 5, 'glass429.jpg': 1, 'paper286.jpg': 2, 'cardboard290.jpg': 3, 'plastic103.jpg': 4, 'cardboard92.jpg': 3, 'paper113.jpg': 2, 'paper346.jpg': 2, 'cardboard372.jpg': 3, 'glass173.jpg': 1, 'trash44.jpg': 6, 'plastic328.jpg': 4, 'cardboard125.jpg': 3, 'plastic305.jpg': 4, 'metal18.jpg': 5, 'metal119.jpg': 5, 'cardboard88.jpg': 3, 'cardboard248.jpg': 3, 'plastic145.jpg': 4, 'plastic21.jpg': 4, 'metal77.jpg': 5, 'metal134.jpg': 5, 'metal248.jpg': 5, 'paper186.jpg': 2, 'cardboard175.jpg': 3, 'plastic227.jpg': 4, 'glass329.jpg': 1, 'paper58.jpg': 2, 'glass451.jpg': 1, 'cardboard34.jpg': 3, 'trash136.jpg': 6, 'trash46.jpg': 6, 'plastic242.jpg': 4, 'glass144.jpg': 1, 'glass194.jpg': 1, 'paper53.jpg': 2, 'paper68.jpg': 2, 'glass317.jpg': 1, 'paper444.jpg': 2, 'paper542.jpg': 2, 'metal325.jpg': 5, 'metal198.jpg': 5, 'metal364.jpg': 5, 'glass35.jpg': 1, 'trash29.jpg': 6, 'metal170.jpg': 5, 'metal395.jpg': 5, 'cardboard18.jpg': 3, 'plastic152.jpg': 4, 'paper373.jpg': 2, 'paper48.jpg': 2, 'plastic426.jpg': 4, 'plastic473.jpg': 4, 'metal157.jpg': 5, 'paper69.jpg': 2, 'paper94.jpg': 2, 'plastic398.jpg': 4, 'paper502.jpg': 2, 'plastic405.jpg': 4, 'metal263.jpg': 5, 'metal341.jpg': 5, 'paper495.jpg': 2, 'plastic80.jpg': 4, 'plastic252.jpg': 4, 'glass353.jpg': 1, 'paper474.jpg': 2, 'plastic312.jpg': 4, 'metal370.jpg': 5, 'metal139.jpg': 5, 'metal143.jpg': 5, 'plastic285.jpg': 4, 'plastic79.jpg': 4, 'metal205.jpg': 5, 'plastic306.jpg': 4, 'trash40.jpg': 6, 'trash4.jpg': 6, 'trash19.jpg': 6, 'plastic434.jpg': 4, 'glass77.jpg': 1, 'plastic388.jpg': 4, 'plastic172.jpg': 4, 'paper527.jpg': 2, 'cardboard274.jpg': 3, 'plastic411.jpg': 4, 'trash57.jpg': 6, 'trash70.jpg': 6, 'cardboard213.jpg': 3, 'paper32.jpg': 2, 'plastic268.jpg': 4, 'paper586.jpg': 2, 'paper3.jpg': 2, 'paper543.jpg': 2, 'cardboard314.jpg': 3, 'plastic270.jpg': 4, 'glass385.jpg': 1, 'paper368.jpg': 2, 'trash3.jpg': 6, 'trash101.jpg': 6, 'paper537.jpg': 2, 'metal84.jpg': 5, 'cardboard218.jpg': 3, 'paper508.jpg': 2, 'plastic177.jpg': 4, 'metal355.jpg': 5, 'glass423.jpg': 1, 'cardboard105.jpg': 3, 'cardboard208.jpg': 3, 'glass306.jpg': 1, 'glass19.jpg': 1, 'paper534.jpg': 2, 'metal50.jpg': 5, 'cardboard128.jpg': 3, 'glass374.jpg': 1, 'plastic82.jpg': 4, 'cardboard231.jpg': 3, 'trash45.jpg': 6, 'cardboard57.jpg': 3, 'paper563.jpg': 2, 'trash35.jpg': 4, 'paper500.jpg': 2, 'glass388.jpg': 1, 'plastic372.jpg': 4, 'glass59.jpg': 1, 'cardboard69.jpg': 3, 'cardboard312.jpg': 3, 'metal269.jpg': 5, 'glass297.jpg': 1, 'plastic187.jpg': 4, 'trash75.jpg': 6, 'paper548.jpg': 2, 'metal328.jpg': 5, 'cardboard313.jpg': 3, 'paper289.jpg': 2, 'cardboard261.jpg': 3, 'cardboard387.jpg': 3, 'paper460.jpg': 2, 'glass350.jpg': 1, 'plastic383.jpg': 4, 'cardboard252.jpg': 3, 'paper230.jpg': 2, 'plastic114.jpg': 4, 'metal24.jpg': 5, 'glass121.jpg': 1, 'plastic315.jpg': 4, 'cardboard239.jpg': 3, 'trash100.jpg': 6, 'metal12.jpg': 5, 'metal186.jpg': 5, 'glass493.jpg': 1, 'paper124.jpg': 2, 'glass323.jpg': 1, 'glass53.jpg': 1, 'plastic205.jpg': 4, 'metal27.jpg': 5, 'plastic390.jpg': 4, 'paper279.jpg': 2, 'cardboard276.jpg': 3, 'glass310.jpg': 1, 'paper294.jpg': 2, 'cardboard308.jpg': 3, 'metal247.jpg': 5, 'cardboard98.jpg': 3, 'trash18.jpg': 6, 'plastic374.jpg': 4, 'metal344.jpg': 5, 'paper7.jpg': 2, 'trash28.jpg': 6, 'paper357.jpg': 2, 'trash94.jpg': 6, 'paper576.jpg': 3, 'paper112.jpg': 2, 'metal68.jpg': 5, 'glass446.jpg': 1, 'glass192.jpg': 1, 'glass256.jpg': 1, 'glass278.jpg': 1, 'paper266.jpg': 2, 'glass218.jpg': 1, 'paper104.jpg': 2, 'cardboard44.jpg': 3, 'metal275.jpg': 5, 'paper462.jpg': 2, 'plastic226.jpg': 4, 'glass427.jpg': 1, 'plastic201.jpg': 4, 'paper356.jpg': 2, 'glass485.jpg': 1, 'metal350.jpg': 5, 'cardboard323.jpg': 3, 'glass57.jpg': 1, 'metal161.jpg': 5, 'metal296.jpg': 5, 'plastic260.jpg': 4, 'glass386.jpg': 1, 'plastic465.jpg': 4, 'paper86.jpg': 2, 'plastic170.jpg': 4, 'paper450.jpg': 2, 'metal217.jpg': 5, 'paper149.jpg': 2, 'glass119.jpg': 1, 'trash8.jpg': 6, 'cardboard160.jpg': 3, 'glass91.jpg': 1, 'cardboard2.jpg': 3, 'glass318.jpg': 1, 'paper129.jpg': 2, 'glass159.jpg': 1, 'cardboard310.jpg': 3, 'metal13.jpg': 5, 'plastic84.jpg': 4, 'plastic32.jpg': 4, 'glass354.jpg': 1, 'paper225.jpg': 2, 'trash1.jpg': 6, 'metal48.jpg': 5, 'plastic98.jpg': 4, 'trash79.jpg': 6, 'plastic207.jpg': 4, 'glass128.jpg': 1, 'cardboard266.jpg': 3, 'paper120.jpg': 2, 'paper557.jpg': 2, 'cardboard332.jpg': 3, 'paper114.jpg': 2, 'paper161.jpg': 2, 'cardboard388.jpg': 3, 'paper569.jpg': 2, 'paper12.jpg': 2, 'metal52.jpg': 5, 'glass61.jpg': 1, 'metal172.jpg': 5, 'plastic67.jpg': 4, 'cardboard259.jpg': 3, 'glass60.jpg': 1, 'glass322.jpg': 1, 'paper348.jpg': 3, 'paper385.jpg': 2, 'glass418.jpg': 1, 'cardboard321.jpg': 3, 'paper219.jpg': 2, 'cardboard384.jpg': 3, 'paper404.jpg': 2, 'paper354.jpg': 2, 'plastic253.jpg': 4, 'paper55.jpg': 2, 'cardboard71.jpg': 3, 'paper381.jpg': 2, 'plastic132.jpg': 4, 'glass293.jpg': 1, 'paper541.jpg': 2, 'paper362.jpg': 2, 'plastic49.jpg': 4, 'paper503.jpg': 2, 'cardboard363.jpg': 3, 'glass476.jpg': 1, 'cardboard401.jpg': 3, 'glass52.jpg': 1, 'paper209.jpg': 2, 'glass365.jpg': 1, 'plastic2.jpg': 4, 'paper416.jpg': 2, 'paper235.jpg': 2, 'glass267.jpg': 1, 'paper301.jpg': 2, 'trash111.jpg': 6, 'glass341.jpg': 1, 'trash12.jpg': 6, 'paper13.jpg': 2, 'glass139.jpg': 1, 'metal387.jpg': 5, 'paper218.jpg': 2, 'paper461.jpg': 2, 'cardboard222.jpg': 3, 'metal175.jpg': 5, 'plastic217.jpg': 4, 'metal65.jpg': 5, 'glass426.jpg': 1, 'paper137.jpg': 2, 'metal99.jpg': 5, 'cardboard40.jpg': 3, 'metal188.jpg': 5, 'glass450.jpg': 1, 'glass68.jpg': 1, 'glass479.jpg': 1, 'plastic265.jpg': 4, 'cardboard51.jpg': 3, 'plastic122.jpg': 4, 'metal80.jpg': 5, 'plastic399.jpg': 4, 'plastic379.jpg': 4, 'glass193.jpg': 1, 'glass472.jpg': 1, 'paper422.jpg': 2, 'glass268.jpg': 1, 'metal258.jpg': 5, 'glass338.jpg': 1, 'plastic317.jpg': 4, 'trash93.jpg': 6, 'paper97.jpg': 2, 'glass155.jpg': 1, 'plastic314.jpg': 4, 'paper208.jpg': 2, 'glass148.jpg': 1, 'metal324.jpg': 5, 'cardboard356.jpg': 3, 'metal33.jpg': 5, 'plastic39.jpg': 4, 'metal62.jpg': 5, 'cardboard216.jpg': 3, 'glass415.jpg': 1, 'trash36.jpg': 6, 'paper282.jpg': 2, 'paper188.jpg': 2, 'cardboard63.jpg': 3, 'paper311.jpg': 2, 'cardboard190.jpg': 3, 'glass311.jpg': 1, 'paper593.jpg': 3, 'plastic214.jpg': 4, 'cardboard289.jpg': 3, 'paper273.jpg': 2, 'glass154.jpg': 1, 'glass83.jpg': 1, 'paper434.jpg': 2, 'cardboard89.jpg': 3, 'paper515.jpg': 2, 'glass181.jpg': 1, 'cardboard73.jpg': 3, 'paper505.jpg': 2, 'paper361.jpg': 2, 'plastic423.jpg': 4, 'plastic64.jpg': 4, 'cardboard214.jpg': 3, 'cardboard9.jpg': 3, 'metal192.jpg': 5, 'cardboard293.jpg': 3, 'glass8.jpg': 1, 'paper276.jpg': 2, 'cardboard210.jpg': 3, 'metal403.jpg': 5, 'glass73.jpg': 1, 'cardboard299.jpg': 3, 'glass118.jpg': 1, 'plastic99.jpg': 4, 'plastic93.jpg': 4, 'paper220.jpg': 2, 'plastic138.jpg': 4, 'paper558.jpg': 2, 'cardboard397.jpg': 3, 'cardboard260.jpg': 3, 'cardboard19.jpg': 3, 'glass287.jpg': 1, 'cardboard286.jpg': 3, 'plastic438.jpg': 4, 'trash109.jpg': 6, 'plastic348.jpg': 4, 'glass466.jpg': 1, 'plastic159.jpg': 4, 'glass255.jpg': 1, 'glass486.jpg': 1, 'plastic126.jpg': 4, 'cardboard383.jpg': 3, 'metal209.jpg': 5, 'paper417.jpg': 2, 'cardboard8.jpg': 3, 'glass135.jpg': 1, 'metal146.jpg': 5, 'paper125.jpg': 2, 'plastic251.jpg': 4, 'paper6.jpg': 2, 'metal249.jpg': 5, 'paper77.jpg': 2, 'metal394.jpg': 5, 'paper350.jpg': 2, 'metal114.jpg': 5, 'metal292.jpg': 5, 'paper525.jpg': 2, 'metal317.jpg': 5, 'trash83.jpg': 6, 'paper547.jpg': 2, 'glass382.jpg': 1, 'metal261.jpg': 5, 'paper570.jpg': 2, 'metal187.jpg': 5, 'glass227.jpg': 1, 'paper392.jpg': 2, 'cardboard184.jpg': 3, 'paper457.jpg': 2, 'glass439.jpg': 1, 'plastic146.jpg': 4, 'paper143.jpg': 2, 'glass10.jpg': 1, 'glass465.jpg': 1, 'plastic420.jpg': 4, 'paper396.jpg': 2, 'trash82.jpg': 6, 'paper167.jpg': 2, 'cardboard121.jpg': 3, 'metal201.jpg': 5, 'cardboard162.jpg': 3, 'plastic264.jpg': 4, 'cardboard115.jpg': 3, 'plastic66.jpg': 4, 'metal246.jpg': 5, 'plastic349.jpg': 4, 'metal87.jpg': 5, 'glass292.jpg': 1, 'glass149.jpg': 1, 'paper269.jpg': 2, 'plastic156.jpg': 4, 'metal112.jpg': 5, 'metal239.jpg': 5, 'metal133.jpg': 5, 'metal393.jpg': 5, 'metal389.jpg': 5, 'paper303.jpg': 2, 'paper405.jpg': 2, 'paper465.jpg': 2, 'trash132.jpg': 6}\n",
      "Doğrulama Etiketleri: {'cardboard114.jpg': 3, 'plastic204.jpg': 4, 'glass123.jpg': 1, 'glass152.jpg': 1, 'glass398.jpg': 1, 'cardboard3.jpg': 3, 'metal367.jpg': 5, 'trash31.jpg': 6, 'glass309.jpg': 1, 'paper198.jpg': 2, 'cardboard237.jpg': 3, 'metal382.jpg': 5, 'paper421.jpg': 2, 'paper591.jpg': 4, 'glass33.jpg': 1, 'glass49.jpg': 1, 'glass481.jpg': 1, 'paper19.jpg': 2, 'trash38.jpg': 6, 'plastic60.jpg': 4, 'cardboard177.jpg': 3, 'plastic160.jpg': 4, 'paper331.jpg': 2, 'glass343.jpg': 1, 'plastic373.jpg': 4, 'glass168.jpg': 1, 'plastic376.jpg': 4, 'plastic421.jpg': 4, 'metal347.jpg': 5, 'paper567.jpg': 2, 'paper514.jpg': 2, 'glass284.jpg': 1, 'paper242.jpg': 2, 'cardboard346.jpg': 3, 'paper424.jpg': 2, 'glass174.jpg': 1, 'plastic117.jpg': 4, 'plastic14.jpg': 4, 'metal93.jpg': 5, 'metal15.jpg': 5, 'metal262.jpg': 5, 'plastic118.jpg': 4, 'paper26.jpg': 2, 'cardboard127.jpg': 3, 'glass304.jpg': 1, 'metal270.jpg': 5, 'metal332.jpg': 5, 'cardboard169.jpg': 3, 'glass55.jpg': 1, 'trash122.jpg': 6, 'paper233.jpg': 2, 'paper126.jpg': 2, 'paper181.jpg': 2, 'cardboard291.jpg': 3, 'cardboard336.jpg': 3, 'plastic47.jpg': 4, 'glass490.jpg': 1, 'plastic308.jpg': 4, 'cardboard319.jpg': 3, 'metal255.jpg': 5, 'metal115.jpg': 5, 'glass469.jpg': 1, 'metal177.jpg': 5, 'glass7.jpg': 1, 'trash110.jpg': 6, 'glass69.jpg': 1, 'cardboard371.jpg': 3, 'glass411.jpg': 1, 'cardboard4.jpg': 3, 'paper110.jpg': 2, 'plastic449.jpg': 4, 'cardboard78.jpg': 3, 'trash9.jpg': 6, 'metal149.jpg': 5, 'paper473.jpg': 2, 'paper211.jpg': 2, 'paper367.jpg': 2, 'paper562.jpg': 2, 'glass474.jpg': 1, 'paper411.jpg': 2, 'metal113.jpg': 5, 'glass88.jpg': 1, 'cardboard58.jpg': 3, 'plastic218.jpg': 4, 'metal267.jpg': 5, 'cardboard337.jpg': 3, 'glass167.jpg': 1, 'plastic101.jpg': 4, 'paper196.jpg': 2, 'glass45.jpg': 1, 'paper57.jpg': 2, 'glass30.jpg': 1, 'paper532.jpg': 2, 'plastic233.jpg': 4, 'cardboard22.jpg': 3, 'metal343.jpg': 5, 'paper227.jpg': 2, 'glass162.jpg': 1, 'plastic76.jpg': 4, 'paper93.jpg': 2, 'paper31.jpg': 2, 'cardboard376.jpg': 3, 'glass361.jpg': 1, 'cardboard233.jpg': 3, 'plastic401.jpg': 4, 'plastic153.jpg': 4, 'glass223.jpg': 1, 'metal57.jpg': 5, 'plastic124.jpg': 4, 'cardboard221.jpg': 3, 'plastic478.jpg': 4, 'paper568.jpg': 3, 'glass249.jpg': 1, 'plastic202.jpg': 4, 'cardboard272.jpg': 3, 'plastic472.jpg': 4, 'plastic161.jpg': 4, 'cardboard24.jpg': 3, 'cardboard17.jpg': 3, 'metal253.jpg': 5, 'metal232.jpg': 5, 'glass153.jpg': 1, 'cardboard241.jpg': 3, 'cardboard362.jpg': 3, 'cardboard143.jpg': 3, 'paper263.jpg': 2, 'metal49.jpg': 5, 'glass392.jpg': 1, 'paper175.jpg': 2, 'plastic42.jpg': 4, 'glass48.jpg': 1, 'metal213.jpg': 5, 'plastic139.jpg': 4, 'glass132.jpg': 1, 'paper232.jpg': 2, 'paper518.jpg': 2, 'plastic452.jpg': 4, 'trash32.jpg': 6, 'plastic53.jpg': 4, 'plastic166.jpg': 4, 'paper80.jpg': 2, 'glass177.jpg': 1, 'plastic116.jpg': 4, 'paper545.jpg': 2, 'plastic289.jpg': 4, 'plastic283.jpg': 4, 'glass422.jpg': 1, 'metal184.jpg': 5, 'glass496.jpg': 1, 'paper521.jpg': 2, 'glass414.jpg': 1, 'glass432.jpg': 1, 'paper75.jpg': 2, 'metal333.jpg': 5, 'plastic206.jpg': 4, 'metal196.jpg': 5, 'plastic246.jpg': 4, 'glass347.jpg': 1, 'paper393.jpg': 2, 'glass136.jpg': 1, 'glass289.jpg': 1, 'plastic106.jpg': 4, 'cardboard292.jpg': 3, 'plastic332.jpg': 4, 'glass116.jpg': 1, 'plastic280.jpg': 4, 'plastic34.jpg': 4, 'metal152.jpg': 5, 'cardboard265.jpg': 3, 'plastic389.jpg': 4, 'trash112.jpg': 6, 'glass190.jpg': 1, 'paper507.jpg': 2, 'glass497.jpg': 1, 'plastic228.jpg': 4, 'glass424.jpg': 1, 'paper155.jpg': 2, 'plastic144.jpg': 4, 'plastic69.jpg': 4, 'paper284.jpg': 2, 'glass264.jpg': 1, 'trash49.jpg': 6, 'cardboard373.jpg': 3, 'paper477.jpg': 2, 'paper549.jpg': 2, 'cardboard66.jpg': 3, 'glass65.jpg': 1, 'paper492.jpg': 2, 'trash120.jpg': 6, 'paper592.jpg': 3, 'metal176.jpg': 5, 'cardboard235.jpg': 3, 'paper180.jpg': 2, 'paper342.jpg': 2, 'cardboard183.jpg': 3, 'metal321.jpg': 5, 'paper9.jpg': 2, 'metal30.jpg': 5, 'plastic88.jpg': 4, 'paper506.jpg': 2, 'metal327.jpg': 5, 'paper493.jpg': 2, 'plastic155.jpg': 4, 'paper118.jpg': 2, 'metal47.jpg': 5, 'cardboard36.jpg': 3, 'paper185.jpg': 2, 'glass257.jpg': 1, 'paper274.jpg': 2, 'metal274.jpg': 5, 'paper322.jpg': 2, 'metal102.jpg': 5, 'cardboard324.jpg': 3, 'cardboard379.jpg': 3, 'paper447.jpg': 2, 'cardboard172.jpg': 3, 'plastic119.jpg': 4, 'metal276.jpg': 5, 'trash117.jpg': 6, 'paper378.jpg': 2, 'paper379.jpg': 2, 'plastic396.jpg': 4, 'cardboard255.jpg': 3, 'glass112.jpg': 1, 'trash56.jpg': 6, 'glass438.jpg': 1, 'paper528.jpg': 2, 'paper128.jpg': 2, 'cardboard287.jpg': 3, 'paper99.jpg': 2, 'paper585.jpg': 2, 'paper147.jpg': 2, 'plastic54.jpg': 4, 'glass443.jpg': 1, 'plastic238.jpg': 4, 'glass203.jpg': 1, 'trash71.jpg': 6, 'paper290.jpg': 2, 'paper173.jpg': 2, 'plastic143.jpg': 4, 'cardboard400.jpg': 3, 'glass206.jpg': 1, 'glass370.jpg': 1, 'glass416.jpg': 1, 'paper387.jpg': 2, 'glass113.jpg': 1, 'glass348.jpg': 1, 'glass349.jpg': 1, 'cardboard111.jpg': 3, 'paper164.jpg': 2, 'metal320.jpg': 5, 'metal312.jpg': 5, 'paper134.jpg': 2, 'glass480.jpg': 1, 'glass456.jpg': 1, 'trash42.jpg': 6, 'paper365.jpg': 2, 'trash63.jpg': 6, 'paper485.jpg': 2, 'paper40.jpg': 2, 'trash105.jpg': 6, 'metal363.jpg': 5, 'cardboard273.jpg': 3, 'paper529.jpg': 2, 'paper468.jpg': 2, 'metal38.jpg': 5, 'paper384.jpg': 2, 'cardboard203.jpg': 3, 'plastic115.jpg': 4, 'glass150.jpg': 1, 'metal291.jpg': 5, 'paper236.jpg': 2, 'metal318.jpg': 5, 'plastic279.jpg': 4, 'plastic468.jpg': 4, 'metal131.jpg': 5, 'trash25.jpg': 6, 'cardboard258.jpg': 3, 'metal323.jpg': 5, 'plastic185.jpg': 4, 'trash60.jpg': 4, 'paper44.jpg': 2, 'paper306.jpg': 2, 'paper100.jpg': 2, 'metal197.jpg': 5, 'plastic70.jpg': 4, 'metal377.jpg': 5, 'metal136.jpg': 5, 'paper483.jpg': 2, 'cardboard403.jpg': 3, 'metal251.jpg': 5, 'cardboard399.jpg': 3, 'glass42.jpg': 1, 'plastic261.jpg': 4, 'plastic259.jpg': 4, 'metal401.jpg': 5, 'plastic391.jpg': 4, 'paper536.jpg': 2, 'metal108.jpg': 5, 'paper204.jpg': 2, 'paper504.jpg': 2, 'metal385.jpg': 5, 'metal279.jpg': 5, 'glass84.jpg': 1, 'metal352.jpg': 5, 'plastic27.jpg': 4, 'metal4.jpg': 5, 'plastic129.jpg': 4, 'metal351.jpg': 5, 'metal221.jpg': 5, 'metal215.jpg': 5, 'metal297.jpg': 5, 'paper272.jpg': 2, 'paper56.jpg': 2, 'plastic324.jpg': 4, 'paper275.jpg': 2, 'glass384.jpg': 1, 'paper76.jpg': 2, 'plastic457.jpg': 4, 'glass74.jpg': 1, 'metal5.jpg': 5, 'cardboard306.jpg': 3, 'glass39.jpg': 1, 'metal58.jpg': 5, 'cardboard149.jpg': 3, 'plastic5.jpg': 4, 'glass23.jpg': 1, 'paper109.jpg': 2}\n"
     ]
    }
   ],
   "source": [
    "# Dosya yolunu vererek etiketleri yükleyen bir fonksiyon tanımlıyoruz\n",
    "def load_labels(file_path):\n",
    "    labels = {}\n",
    "    with open(file_path, 'r') as f:\n",
    "        for line in f.readlines():\n",
    "            filename, label = line.strip().split()\n",
    "            labels[filename] = int(label)\n",
    "    return labels\n",
    "\n",
    "# Etiketleri yükleme\n",
    "labels_train = load_labels(labels_train_file)\n",
    "labels_test = load_labels(labels_test_file)\n",
    "labels_val = load_labels(labels_val_file)\n",
    "\n",
    "# Yüklenen etiketleri kontrol etmek için\n",
    "print(\"Eğitim Etiketleri:\", labels_train)\n",
    "print(\"Test Etiketleri:\", labels_test)\n",
    "print(\"Doğrulama Etiketleri:\", labels_val)"
   ]
  },
  {
   "cell_type": "code",
   "execution_count": 24,
   "metadata": {},
   "outputs": [],
   "source": [
    "# Veriyi hazırlama\n",
    "def load_images(labels):\n",
    "    images = []\n",
    "    labels_list = []\n",
    "    for filename, label in labels.items():\n",
    "        # Etiketlere göre alt klasör adını belirleme\n",
    "        if label == 1:\n",
    "            folder = \"glass\"\n",
    "        elif label == 2:\n",
    "            folder = \"paper\"\n",
    "        elif label == 3:\n",
    "            folder = \"cardboard\"\n",
    "        elif label == 4:\n",
    "            folder = \"plastic\"\n",
    "        elif label == 5:\n",
    "            folder = \"metal\"\n",
    "        elif label == 6:\n",
    "            folder = \"trash\"\n",
    "        \n",
    "        # Tam dosya yolunu oluşturma\n",
    "        img_path = os.path.join(image_directory, folder, filename)\n",
    "        \n",
    "        img = cv2.imread(img_path)\n",
    "        if img is None:\n",
    "            print(f\"Resim yüklenemedi: {img_path}\")\n",
    "            continue  # Bu görüntüyü atlayarak sonraki görüntüye geç\n",
    "        \n",
    "        img = cv2.resize(img, (224, 224))  # YOLO modelleri için uygun boyut\n",
    "        images.append(img)\n",
    "        labels_list.append(label)\n",
    "        \n",
    "    return np.array(images, dtype='float32') / 255.0, np.array(labels_list)\n",
    "\n"
   ]
  },
  {
   "cell_type": "code",
   "execution_count": 25,
   "metadata": {},
   "outputs": [
    {
     "name": "stdout",
     "output_type": "stream",
     "text": [
      "Resim yüklenemedi: dataset\\dataset-resized\\cardboard\\trash80.jpg\n",
      "Resim yüklenemedi: dataset\\dataset-resized\\trash\\trash2.jpg\n",
      "Resim yüklenemedi: dataset\\dataset-resized\\cardboard\\trash22.jpg\n"
     ]
    }
   ],
   "source": [
    "# Eğitim, test ve doğrulama verilerini yükleme\n",
    "X_train, y_train = load_images(labels_train)\n",
    "X_test, y_test = load_images(labels_test)\n",
    "X_val, y_val = load_images(labels_val)\n"
   ]
  },
  {
   "cell_type": "markdown",
   "metadata": {},
   "source": [
    "### Modelin Geliştirilmesi"
   ]
  },
  {
   "cell_type": "code",
   "execution_count": 26,
   "metadata": {},
   "outputs": [],
   "source": [
    "from tensorflow.keras.applications import MobileNetV2\n",
    "\n",
    "# Önceden eğitilmiş MobileNetV2 modelini yükleyin ve yalnızca son katmanları eğitin\n",
    "base_model = MobileNetV2(input_shape=(224, 224, 3), include_top=False, weights='imagenet')\n",
    "base_model.trainable = False  # Tüm katmanları donduruyoruz\n",
    "\n",
    "model = tf.keras.models.Sequential([\n",
    "    base_model,\n",
    "    tf.keras.layers.GlobalAveragePooling2D(),\n",
    "    tf.keras.layers.Dense(128, activation='relu'),\n",
    "    tf.keras.layers.Dropout(0.5),\n",
    "    tf.keras.layers.Dense(6, activation='softmax')\n",
    "])"
   ]
  },
  {
   "cell_type": "code",
   "execution_count": 27,
   "metadata": {},
   "outputs": [],
   "source": [
    "# Etiketleri sıfır bazlı yapmak\n",
    "y_train -= 1\n",
    "y_test -= 1\n",
    "y_val -= 1"
   ]
  },
  {
   "cell_type": "code",
   "execution_count": 28,
   "metadata": {},
   "outputs": [],
   "source": [
    "log_dir = \"logs/fit/\" + time.strftime(\"%Y%m%d-%H%M%S\")\n",
    "\n",
    "# TensorBoard callback\n",
    "tensorboard_callback = TensorBoard(log_dir=log_dir, histogram_freq=1)"
   ]
  },
  {
   "cell_type": "code",
   "execution_count": 29,
   "metadata": {},
   "outputs": [
    {
     "name": "stdout",
     "output_type": "stream",
     "text": [
      "Epoch 1/30\n",
      "62/62 [==============================] - 68s 1s/step - loss: 1.1838 - accuracy: 0.5464 - val_loss: 0.7345 - val_accuracy: 0.7256\n",
      "Epoch 2/30\n",
      "62/62 [==============================] - 61s 989ms/step - loss: 0.7528 - accuracy: 0.7235 - val_loss: 0.6520 - val_accuracy: 0.7591\n",
      "Epoch 3/30\n",
      "62/62 [==============================] - 62s 999ms/step - loss: 0.5760 - accuracy: 0.7889 - val_loss: 0.5491 - val_accuracy: 0.8140\n",
      "Epoch 4/30\n",
      "62/62 [==============================] - 58s 933ms/step - loss: 0.5090 - accuracy: 0.8113 - val_loss: 0.5468 - val_accuracy: 0.7957\n",
      "Epoch 5/30\n",
      "62/62 [==============================] - 58s 932ms/step - loss: 0.4081 - accuracy: 0.8559 - val_loss: 0.5124 - val_accuracy: 0.8232\n",
      "Epoch 6/30\n",
      "62/62 [==============================] - 63s 1s/step - loss: 0.3567 - accuracy: 0.8681 - val_loss: 0.5242 - val_accuracy: 0.8079\n",
      "Epoch 7/30\n",
      "62/62 [==============================] - 56s 896ms/step - loss: 0.3206 - accuracy: 0.8879 - val_loss: 0.4867 - val_accuracy: 0.8232\n",
      "Epoch 8/30\n",
      "62/62 [==============================] - 56s 904ms/step - loss: 0.2739 - accuracy: 0.9046 - val_loss: 0.4852 - val_accuracy: 0.8232\n",
      "Epoch 9/30\n",
      "62/62 [==============================] - 56s 899ms/step - loss: 0.2326 - accuracy: 0.9193 - val_loss: 0.4938 - val_accuracy: 0.8049\n",
      "Epoch 10/30\n",
      "62/62 [==============================] - 58s 935ms/step - loss: 0.2143 - accuracy: 0.9224 - val_loss: 0.4753 - val_accuracy: 0.8354\n",
      "Epoch 11/30\n",
      "62/62 [==============================] - 56s 910ms/step - loss: 0.1906 - accuracy: 0.9376 - val_loss: 0.4909 - val_accuracy: 0.8384\n",
      "Epoch 12/30\n",
      "62/62 [==============================] - 58s 931ms/step - loss: 0.1607 - accuracy: 0.9467 - val_loss: 0.4822 - val_accuracy: 0.8201\n",
      "Epoch 13/30\n",
      "62/62 [==============================] - 53s 863ms/step - loss: 0.1458 - accuracy: 0.9543 - val_loss: 0.5018 - val_accuracy: 0.8232\n",
      "Epoch 14/30\n",
      "62/62 [==============================] - 57s 928ms/step - loss: 0.1130 - accuracy: 0.9691 - val_loss: 0.5069 - val_accuracy: 0.8262\n",
      "Epoch 15/30\n",
      "62/62 [==============================] - 57s 926ms/step - loss: 0.1247 - accuracy: 0.9614 - val_loss: 0.5076 - val_accuracy: 0.8262\n",
      "14/14 [==============================] - 11s 748ms/step - loss: 0.4652 - accuracy: 0.8306\n",
      "Test doğruluğu: 83.06%\n"
     ]
    }
   ],
   "source": [
    "# Modeli derleme\n",
    "model.compile(optimizer=tf.keras.optimizers.Adam(learning_rate=0.001),\n",
    "              loss='sparse_categorical_crossentropy',\n",
    "              metrics=['accuracy'])\n",
    "\n",
    "from tensorflow.keras.callbacks import EarlyStopping\n",
    "\n",
    "early_stopping = EarlyStopping(monitor='val_loss', patience=5, restore_best_weights=True)\n",
    "\n",
    "# Modeli eğitme, TensorBoard ve EarlyStopping callback'lerini ekleyin\n",
    "model.fit(X_train, y_train, epochs=30, validation_data=(X_val, y_val), callbacks=[tensorboard_callback, early_stopping])\n",
    "\n",
    "\n",
    "# Modeli değerlendirme\n",
    "loss, accuracy = model.evaluate(X_test, y_test)\n",
    "print(f'Test doğruluğu: {accuracy * 100:.2f}%')"
   ]
  },
  {
   "cell_type": "code",
   "execution_count": 30,
   "metadata": {},
   "outputs": [],
   "source": [
    "# Modeli kaydetme\n",
    "model.save('model/model.keras')"
   ]
  }
 ],
 "metadata": {
  "kernelspec": {
   "display_name": "tf_env",
   "language": "python",
   "name": "python3"
  },
  "language_info": {
   "codemirror_mode": {
    "name": "ipython",
    "version": 3
   },
   "file_extension": ".py",
   "mimetype": "text/x-python",
   "name": "python",
   "nbconvert_exporter": "python",
   "pygments_lexer": "ipython3",
   "version": "3.8.5"
  }
 },
 "nbformat": 4,
 "nbformat_minor": 2
}
