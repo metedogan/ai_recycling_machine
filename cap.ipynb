{
 "cells": [
  {
   "cell_type": "markdown",
   "metadata": {},
   "source": [
    "### Gerekli Kütüphanelerin Yüklenmesi"
   ]
  },
  {
   "cell_type": "code",
   "execution_count": 1,
   "metadata": {},
   "outputs": [],
   "source": [
    "import cv2\n",
    "import numpy as np\n",
    "import tensorflow as tf\n",
    "\n",
    "# Modeli yükle\n",
    "model = tf.keras.models.load_model(\"model.keras\")"
   ]
  },
  {
   "cell_type": "markdown",
   "metadata": {},
   "source": [
    "### Etiketlerin Tanımlanması"
   ]
  },
  {
   "cell_type": "code",
   "execution_count": 2,
   "metadata": {},
   "outputs": [],
   "source": [
    "class_labels = [ \"glass\", \"paper\", \"cardboard\", \"plastic\", \"metal\", \"trash\" ] "
   ]
  },
  {
   "cell_type": "markdown",
   "metadata": {},
   "source": [
    "### Gerçek Zamanlı Nesne Tanıma"
   ]
  },
  {
   "cell_type": "code",
   "execution_count": 11,
   "metadata": {},
   "outputs": [
    {
     "name": "stdout",
     "output_type": "stream",
     "text": [
      "1/1 [==============================] - 0s 92ms/step\n",
      "1/1 [==============================] - 0s 92ms/step\n",
      "1/1 [==============================] - 0s 108ms/step\n",
      "1/1 [==============================] - 0s 89ms/step\n",
      "Tespit edilen sınıf: cardboard, Güven: 0.85\n",
      "Kamera kapatıldı. Tespit edilen sınıf: cardboard\n"
     ]
    }
   ],
   "source": [
    "# Kamerayı başlat\n",
    "cap = cv2.VideoCapture(0)\n",
    "\n",
    "# Tespit için güven sınırı\n",
    "CONFIDENCE_THRESHOLD = 0.8\n",
    "\n",
    "detected_class_name = None\n",
    "\n",
    "while cap.isOpened():\n",
    "    ret, frame = cap.read()\n",
    "    if not ret:\n",
    "        print(\"Kameradan görüntü alınamadı.\")\n",
    "        break\n",
    "\n",
    "    # OpenCV ile görüntüyü yeniden boyutlandır ve işleme hazır hale getir\n",
    "    input_image = cv2.resize(frame, (224, 224))  # MobilNetV2 için varsayılan boyut\n",
    "    input_image = np.expand_dims(input_image, axis=0)  # Batch boyutunu ekle\n",
    "    input_image = input_image / 255.0  # Normalize et\n",
    "\n",
    "    # Model ile tahmin yap\n",
    "    predictions = model.predict(input_image)\n",
    "    confidence = np.max(predictions)\n",
    "    predicted_class_index = np.argmax(predictions)  # En yüksek tahmin indeksini al\n",
    "    predicted_class_name = class_labels[predicted_class_index]  # İndeksi sınıf adına dönüştür\n",
    "\n",
    "    # Tespit edilen sınıfı ve güven puanını göster\n",
    "    cv2.putText(frame, f\"Class: {predicted_class_name}, Confidence: {confidence:.2f}\",\n",
    "                (10, 30), cv2.FONT_HERSHEY_SIMPLEX, 1, (0, 255, 0), 2)\n",
    "\n",
    "    cv2.imshow(\"Real-time Detection\", frame)\n",
    "\n",
    "    # Güven sınırını geçen sınıf bulunursa işlemi durdur\n",
    "    if confidence > CONFIDENCE_THRESHOLD:\n",
    "        detected_class_name = predicted_class_name\n",
    "        print(f\"Tespit edilen sınıf: {detected_class_name}, Güven: {confidence:.2f}\")\n",
    "        break\n",
    "\n",
    "    # Çıkmak için 'q' tuşuna bas\n",
    "    if cv2.waitKey(1) & 0xFF == ord('q'):\n",
    "        break\n",
    "\n",
    "# Kamerayı serbest bırak ve tüm pencereleri kapat\n",
    "cap.release()\n",
    "cv2.destroyAllWindows()\n",
    "\n",
    "# Tespit edilen sınıfı döndür\n",
    "if detected_class_name is not None:\n",
    "    print(f\"Kamera kapatıldı. Tespit edilen sınıf: {detected_class_name}\")\n",
    "else:\n",
    "    print(\"Hiçbir sınıf belirlenen güven seviyesine ulaşmadı.\")"
   ]
  }
 ],
 "metadata": {
  "kernelspec": {
   "display_name": "tf_env",
   "language": "python",
   "name": "python3"
  },
  "language_info": {
   "codemirror_mode": {
    "name": "ipython",
    "version": 3
   },
   "file_extension": ".py",
   "mimetype": "text/x-python",
   "name": "python",
   "nbconvert_exporter": "python",
   "pygments_lexer": "ipython3",
   "version": "3.8.5"
  }
 },
 "nbformat": 4,
 "nbformat_minor": 2
}
