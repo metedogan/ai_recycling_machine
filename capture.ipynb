{
 "cells": [
  {
   "cell_type": "code",
   "execution_count": 1,
   "metadata": {},
   "outputs": [],
   "source": [
    "import cv2\n",
    "import numpy as np\n",
    "from tensorflow.keras.models import load_model"
   ]
  },
  {
   "cell_type": "code",
   "execution_count": 2,
   "metadata": {},
   "outputs": [],
   "source": [
    "model = load_model('model.keras') "
   ]
  },
  {
   "cell_type": "code",
   "execution_count": 13,
   "metadata": {},
   "outputs": [],
   "source": [
    "class_labels = [\"glass\", \"paper\", \"cardboard\", \"plastic\", \"metal\", \"trash\" ]"
   ]
  },
  {
   "cell_type": "code",
   "execution_count": 22,
   "metadata": {},
   "outputs": [
    {
     "name": "stdout",
     "output_type": "stream",
     "text": [
      "Kameradan gerçek zamanlı görüntü akışı başlatıldı.\n",
      "1/1 [==============================] - 0s 75ms/step\n",
      "1/1 [==============================] - 0s 90ms/step\n",
      "1/1 [==============================] - 0s 77ms/step\n",
      "1/1 [==============================] - 0s 89ms/step\n",
      "1/1 [==============================] - 0s 74ms/step\n",
      "1/1 [==============================] - 0s 83ms/step\n",
      "1/1 [==============================] - 0s 66ms/step\n",
      "1/1 [==============================] - 0s 60ms/step\n",
      "1/1 [==============================] - 0s 64ms/step\n",
      "1/1 [==============================] - 0s 66ms/step\n",
      "1/1 [==============================] - 0s 61ms/step\n",
      "1/1 [==============================] - 0s 62ms/step\n",
      "1/1 [==============================] - 0s 70ms/step\n",
      "1/1 [==============================] - 0s 66ms/step\n",
      "1/1 [==============================] - 0s 60ms/step\n",
      "1/1 [==============================] - 0s 62ms/step\n",
      "1/1 [==============================] - 0s 62ms/step\n",
      "Model 95.74% emin. Tespit edilen sınıf: trash\n",
      "Son tespit edilen sınıf: trash\n"
     ]
    }
   ],
   "source": [
    "# Kamerayı aç\n",
    "camera = cv2.VideoCapture(0)  # Web kamerası için 0 kullanılır\n",
    "\n",
    "print(\"Kameradan gerçek zamanlı görüntü akışı başlatıldı.\")\n",
    "\n",
    "detected_class = None  # Tespit edilen sınıfı saklamak için değişken\n",
    "min_confidence = 0.95  # Gerekli güven seviyesi\n",
    "\n",
    "while True:\n",
    "    # Kameradan bir kare al\n",
    "    ret, frame = camera.read()\n",
    "    if not ret:\n",
    "        print(\"Kamera görüntüsü alınamadı.\")\n",
    "        break\n",
    "\n",
    "    # Görüntüyü modelin kabul edeceği boyuta ölçekleyin\n",
    "    input_image = cv2.resize(frame, (224, 224))  # Modelin giriş boyutuna göre ayarlayın\n",
    "    input_image = np.expand_dims(input_image, axis=0)  # Batch boyutu ekleyin\n",
    "    input_image = input_image / 255.0  # Normalize edin\n",
    "\n",
    "    # Modeli kullanarak tahmin yap\n",
    "    predictions = model.predict(input_image)\n",
    "    confidence = np.max(predictions[0])\n",
    "    predicted_class_index = np.argmax(predictions[0])\n",
    "    predicted_class = class_labels[predicted_class_index]\n",
    "\n",
    "    # Tespit edilen sınıfı ve güven seviyesini kontrol et\n",
    "    if confidence > min_confidence:\n",
    "        detected_class = predicted_class\n",
    "        print(f\"Model {confidence * 100:.2f}% emin. Tespit edilen sınıf: {predicted_class}\")\n",
    "        break  # Güven seviyesi yeterli olduğunda döngüden çık\n",
    "\n",
    "    # Tespit edilen nesneyi çerçeveye alın\n",
    "    # Nesne konumunu bulmak için görüntünün gri tonlamasını alın\n",
    "    gray_frame = cv2.cvtColor(frame, cv2.COLOR_BGR2GRAY)\n",
    "    blur = cv2.GaussianBlur(gray_frame, (5, 5), 0)\n",
    "    _, thresh = cv2.threshold(blur, 60, 255, cv2.THRESH_BINARY)\n",
    "\n",
    "    # Kenarları tespit edin\n",
    "    contours, _ = cv2.findContours(thresh, cv2.RETR_EXTERNAL, cv2.CHAIN_APPROX_SIMPLE)\n",
    "\n",
    "    # En büyük konturu bulun\n",
    "    if contours:\n",
    "        largest_contour = max(contours, key=cv2.contourArea)\n",
    "        x, y, w, h = cv2.boundingRect(largest_contour)\n",
    "\n",
    "        # Dikdörtgeni çizin\n",
    "        cv2.rectangle(frame, (x, y), (x + w, y + h), (0, 255, 0), 2)\n",
    "\n",
    "        # Sınıfı ve güven seviyesini kutunun üstüne yazın\n",
    "        label = f\"{predicted_class} ({confidence * 100:.2f}%)\"\n",
    "        cv2.putText(frame, label, (x, y - 10), cv2.FONT_HERSHEY_SIMPLEX, 0.6, (0, 255, 0), 2)\n",
    "\n",
    "    # Görüntüyü göster\n",
    "    cv2.imshow(\"Real-Time Object Detection\", frame)\n",
    "\n",
    "    # 'q' tuşuna basarak manuel olarak çıkabilirsiniz\n",
    "    if cv2.waitKey(1) & 0xFF == ord('q'):\n",
    "        print(\"Kapatma komutu alındı. Kamerayı kapatıyorum.\")\n",
    "        break\n",
    "\n",
    "# Kamerayı kapat ve kaynakları serbest bırak\n",
    "camera.release()\n",
    "cv2.destroyAllWindows()\n",
    "\n",
    "# Tespit edilen sınıfı döndür\n",
    "if detected_class:\n",
    "    print(f\"Son tespit edilen sınıf: {detected_class}\")\n",
    "else:\n",
    "    print(\"Herhangi bir sınıf yeterli güven düzeyiyle tespit edilemedi.\")"
   ]
  }
 ],
 "metadata": {
  "kernelspec": {
   "display_name": "tf_env",
   "language": "python",
   "name": "python3"
  },
  "language_info": {
   "codemirror_mode": {
    "name": "ipython",
    "version": 3
   },
   "file_extension": ".py",
   "mimetype": "text/x-python",
   "name": "python",
   "nbconvert_exporter": "python",
   "pygments_lexer": "ipython3",
   "version": "3.8.5"
  }
 },
 "nbformat": 4,
 "nbformat_minor": 2
}
